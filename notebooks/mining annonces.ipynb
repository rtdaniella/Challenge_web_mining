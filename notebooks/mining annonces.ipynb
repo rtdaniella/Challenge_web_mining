{
 "cells": [
  {
   "cell_type": "markdown",
   "metadata": {},
   "source": []
  },
  {
   "cell_type": "code",
   "execution_count": 1,
   "metadata": {},
   "outputs": [],
   "source": [
    "import os\n",
    "import time\n",
    "import requests\n",
    "try:\n",
    "    import pyarrow\n",
    "except:\n",
    "    %pip install pyarrow\n",
    "    import pyarrow\n",
    "try:\n",
    "    import bs4\n",
    "    from bs4 import BeautifulSoup\n",
    "except:\n",
    "    %pip install beautifulsoup4\n",
    "    import bs4\n",
    "    from bs4 import BeautifulSoup\n",
    "try:\n",
    "    import pandas as pd\n",
    "except:\n",
    "    %pip install pandas\n",
    "    import pandas as pd\n",
    "\n",
    "from urllib.parse import urlparse\n",
    "\n",
    "import re"
   ]
  },
  {
   "cell_type": "code",
   "execution_count": 2,
   "metadata": {},
   "outputs": [],
   "source": [
    "headers = {\n",
    "        \"User-Agent\": \"Mozilla/5.0 AppleWebKit/605.1.15 Version/17.4.1 Safari/605.1.15\",\n",
    "#        \"User-Agent\": \"Mozilla/5.0 (Windows NT 10.0; Win64; x64; rv:98.0) Gecko/20100101 Firefox/98.0\",\n",
    "        \"Accept\": \"text/html,application/xhtml+xml,application/xml;q=0.9,image/avif,image/webp,/;q=0.8\",\n",
    "        \"Accept-Language\": \"fr-FR,fr;q=0.8\",\n",
    "        \"Accept-Encoding\": \"gzip, deflate\",\n",
    "        \"Connection\": \"keep-alive\",\n",
    "        \"Upgrade-Insecure-Requests\": \"1\",\n",
    "        \"Sec-Fetch-Dest\": \"document\",\n",
    "        \"Sec-Fetch-Mode\": \"navigate\",\n",
    "        \"Sec-Fetch-Site\": \"none\",\n",
    "        \"Sec-Fetch-User\": \"?1\",\n",
    "        \"Cache-Control\": \"max-age=0\",\n",
    "    }"
   ]
  },
  {
   "cell_type": "code",
   "execution_count": 3,
   "metadata": {},
   "outputs": [],
   "source": [
    "url = \"https://candidat.francetravail.fr/offres/recherche?motsCles=data+engineer&offresPartenaires=true&rayon=10&tri=0\"\n",
    "r = requests.get(url, headers= headers)"
   ]
  },
  {
   "cell_type": "code",
   "execution_count": 4,
   "metadata": {},
   "outputs": [
    {
     "data": {
      "text/plain": [
       "{'Cache-Control': 'no-cache', 'Date': 'Wed, 12 Mar 2025 14:12:22 GMT', 'Content-Type': 'text/html;charset=UTF-8', 'X-OneAgent-JS-Injection': 'true', 'X-Content-Type-Options': \"nosniff'\", 'Set-Cookie': 'dtCookie=v_4_srv_9_sn_0AAE453D4B62125021FD8486094B172C_perc_100000_ol_0_mul_1_app-3A6e350f5c3735afd9_1_rcs-3Acss_0; Path=/; Domain=.francetravail.fr; Secure; , JSESSIONID_RECH_OFFRE=FyWKswQij28gldtumwL9HOXzBF1Fhv9Le_Coh3FKtVnYYcBQn303!-1413685851; path=/; HttpOnly; Secure; , userBadge=0; domain=.francetravail.fr; expires=Wed, 12-Mar-2025 16:12:22 GMT; path=/; secure, BIGipServerPOOL_PWNOT-00PT28_HTTPS_PN055-VIPA_3_PN055=3594324490.56131.0000; path=/; Httponly; Secure, TS016fc3b0=0150c672c3917210aeb132e9a4b58604a029fd3823184692c7d7133b90519c242457caa9219ab68e26046a2bab241136644b00b314; Path=/; Domain=.candidat.francetravail.fr; ', 'Vary': 'Accept-Encoding', 'Content-Encoding': 'gzip', 'Transfer-Encoding': 'chunked'}"
      ]
     },
     "execution_count": 4,
     "metadata": {},
     "output_type": "execute_result"
    }
   ],
   "source": [
    "r.headers"
   ]
  },
  {
   "cell_type": "code",
   "execution_count": 5,
   "metadata": {},
   "outputs": [],
   "source": [
    "\n",
    "with open(\"FT.html\", \"w\") as f:\n",
    "    f.write(BeautifulSoup(r.text).prettify())"
   ]
  },
  {
   "cell_type": "code",
   "execution_count": 6,
   "metadata": {},
   "outputs": [],
   "source": [
    "soup = BeautifulSoup(r.text)"
   ]
  },
  {
   "cell_type": "code",
   "execution_count": 7,
   "metadata": {},
   "outputs": [],
   "source": [
    "urls = [link.get(\"href\") for link in soup.select('ul[data-container-type=\"zone\"] > li > a')]"
   ]
  },
  {
   "cell_type": "code",
   "execution_count": 8,
   "metadata": {},
   "outputs": [
    {
     "data": {
      "text/plain": [
       "['/offres/recherche/detail/189KZNQ',\n",
       " '/offres/recherche.rechercheoffre.elementoffredelaliste:demandeauthentajouteralaselectiondepuisliste/189KZNQ?motsCles=data+engineer&offresPartenaires=true&rayon=10&tri=0',\n",
       " '/offres/recherche/detail/189GQNP',\n",
       " '/offres/recherche.rechercheoffre.elementoffredelaliste:demandeauthentajouteralaselectiondepuisliste/189GQNP?motsCles=data+engineer&offresPartenaires=true&rayon=10&tri=0',\n",
       " '/offres/recherche/detail/189GJVT',\n",
       " '/offres/recherche.rechercheoffre.elementoffredelaliste:demandeauthentajouteralaselectiondepuisliste/189GJVT?motsCles=data+engineer&offresPartenaires=true&rayon=10&tri=0',\n",
       " '/offres/recherche/detail/188ZWDF',\n",
       " '/offres/recherche.rechercheoffre.elementoffredelaliste:demandeauthentajouteralaselectiondepuisliste/188ZWDF?motsCles=data+engineer&offresPartenaires=true&rayon=10&tri=0',\n",
       " '/offres/recherche/detail/188ZDGF',\n",
       " '/offres/recherche.rechercheoffre.elementoffredelaliste:demandeauthentajouteralaselectiondepuisliste/188ZDGF?motsCles=data+engineer&offresPartenaires=true&rayon=10&tri=0',\n",
       " '/offres/recherche/detail/188VWGG',\n",
       " '/offres/recherche.rechercheoffre.elementoffredelaliste:demandeauthentajouteralaselectiondepuisliste/188VWGG?motsCles=data+engineer&offresPartenaires=true&rayon=10&tri=0',\n",
       " '/offres/recherche/detail/188SXMM',\n",
       " '/offres/recherche.rechercheoffre.elementoffredelaliste:demandeauthentajouteralaselectiondepuisliste/188SXMM?motsCles=data+engineer&offresPartenaires=true&rayon=10&tri=0',\n",
       " '/offres/recherche/detail/188HLBS',\n",
       " '/offres/recherche.rechercheoffre.elementoffredelaliste:demandeauthentajouteralaselectiondepuisliste/188HLBS?motsCles=data+engineer&offresPartenaires=true&rayon=10&tri=0',\n",
       " '/offres/recherche/detail/188HFWY',\n",
       " '/offres/recherche.rechercheoffre.elementoffredelaliste:demandeauthentajouteralaselectiondepuisliste/188HFWY?motsCles=data+engineer&offresPartenaires=true&rayon=10&tri=0',\n",
       " '/offres/recherche/detail/188GHTY',\n",
       " '/offres/recherche.rechercheoffre.elementoffredelaliste:demandeauthentajouteralaselectiondepuisliste/188GHTY?motsCles=data+engineer&offresPartenaires=true&rayon=10&tri=0',\n",
       " '/offres/recherche/detail/188DDRG',\n",
       " '/offres/recherche.rechercheoffre.elementoffredelaliste:demandeauthentajouteralaselectiondepuisliste/188DDRG?motsCles=data+engineer&offresPartenaires=true&rayon=10&tri=0',\n",
       " '/offres/recherche/detail/187NTTM',\n",
       " '/offres/recherche.rechercheoffre.elementoffredelaliste:demandeauthentajouteralaselectiondepuisliste/187NTTM?motsCles=data+engineer&offresPartenaires=true&rayon=10&tri=0',\n",
       " '/offres/recherche/detail/186RJZQ',\n",
       " '/offres/recherche.rechercheoffre.elementoffredelaliste:demandeauthentajouteralaselectiondepuisliste/186RJZQ?motsCles=data+engineer&offresPartenaires=true&rayon=10&tri=0',\n",
       " '/offres/recherche/detail/189DCYW',\n",
       " '/offres/recherche.rechercheoffre.elementoffredelaliste:demandeauthentajouteralaselectiondepuisliste/189DCYW?motsCles=data+engineer&offresPartenaires=true&rayon=10&tri=0',\n",
       " '/offres/recherche/detail/188RQRZ',\n",
       " '/offres/recherche.rechercheoffre.elementoffredelaliste:demandeauthentajouteralaselectiondepuisliste/188RQRZ?motsCles=data+engineer&offresPartenaires=true&rayon=10&tri=0',\n",
       " '/offres/recherche/detail/189KVTX',\n",
       " '/offres/recherche.rechercheoffre.elementoffredelaliste:demandeauthentajouteralaselectiondepuisliste/189KVTX?motsCles=data+engineer&offresPartenaires=true&rayon=10&tri=0',\n",
       " '/offres/recherche/detail/189KVNN',\n",
       " '/offres/recherche.rechercheoffre.elementoffredelaliste:demandeauthentajouteralaselectiondepuisliste/189KVNN?motsCles=data+engineer&offresPartenaires=true&rayon=10&tri=0',\n",
       " '/offres/recherche/detail/189JDYT',\n",
       " '/offres/recherche.rechercheoffre.elementoffredelaliste:demandeauthentajouteralaselectiondepuisliste/189JDYT?motsCles=data+engineer&offresPartenaires=true&rayon=10&tri=0',\n",
       " '/offres/recherche/detail/189CBPG',\n",
       " '/offres/recherche.rechercheoffre.elementoffredelaliste:demandeauthentajouteralaselectiondepuisliste/189CBPG?motsCles=data+engineer&offresPartenaires=true&rayon=10&tri=0',\n",
       " '/offres/recherche/detail/188ZVFK',\n",
       " '/offres/recherche.rechercheoffre.elementoffredelaliste:demandeauthentajouteralaselectiondepuisliste/188ZVFK?motsCles=data+engineer&offresPartenaires=true&rayon=10&tri=0']"
      ]
     },
     "execution_count": 8,
     "metadata": {},
     "output_type": "execute_result"
    }
   ],
   "source": [
    "urls"
   ]
  },
  {
   "cell_type": "code",
   "execution_count": null,
   "metadata": {},
   "outputs": [],
   "source": [
    "domaine = \"https://candidat.francetravail.fr/offres/recherche/detail/189KZNQ\""
   ]
  },
  {
   "cell_type": "code",
   "execution_count": 10,
   "metadata": {},
   "outputs": [
    {
     "name": "stdout",
     "output_type": "stream",
     "text": [
      "/offres/recherche/detail/189KZNQ\n"
     ]
    }
   ],
   "source": [
    "for i in range(0,len(urls), 2):\n",
    "    print(urls[i])\n",
    "    r = requests.get(domaine + str(urls[i]), headers=headers)\n",
    "    break"
   ]
  },
  {
   "cell_type": "code",
   "execution_count": null,
   "metadata": {},
   "outputs": [],
   "source": [
    "competences = []\n",
    "savoirs = []\n",
    "soup = BeautifulSoup(r.text)\n",
    "\n",
    "def parse_soup(soup: bs4.BeautifulSoup):\n",
    "    annonce = dict()\n",
    "    annonce[\"intitule_poste\"] = soup.find(\"span\", {\"itemprop\": \"title\"}).text\n",
    "    annonce[\"description\"] = soup.find(\"div\", {\"itemprop\": \"description\"}).text\n",
    "    annonce[\"experience\"] = soup.find(\"span\", {\"itemprop\": \"experienceRequirements\"}).text\n",
    "    skill = soup.select(\"ul.skill-list.list-unstyled > li\")\n",
    "\n",
    "\n",
    "    for item in skill:\n",
    "        exp = item.find_all(\"span\", {\"itemprop\": \"experienceRequirements\"})\n",
    "        educ = item.find_all(\"span\", {\"itemprop\": \"educationRequirements\"})\n",
    "        comp = item.find(\"span\", {\"class\": \"skill skill-competence\"})\n",
    "        sav = item.find(\"span\", {\"class\": \"skill skill-savoir\"})\n",
    "        if len(exp) != 0:\n",
    "            experience = exp[0].text\n",
    "            exp_requis = True if item.find(\"span\", {\"class\": \"skill-required\"}) else False\n",
    "            annonce[\"experience\"] = {\"exp\": experience, \"requis\": exp_requis}\n",
    "        if education:\n",
    "            education = educ[0].text\n",
    "            educ_requis = True if item.find(\"span\", {\"class\": \"skill-required\"}) else False\n",
    "            annonce[\"experience\"] = {\"exp\": education, \"requis\": educ_requis}\n",
    "        \n",
    "        if comp:\n",
    "            competence = comp.find(\"span\", {\"class\": \"skill-name\"}).text\n",
    "            requis = True if comp.find(\"span\", {\"class\": \"skill-required\"}) else False\n",
    "            competences.append((competence, requis))\n",
    "        if sav:\n",
    "            savoir = sav.find(\"span\", {\"class\": \"skill-name\"}).text\n",
    "            requis = True if sav.find(\"span\", {\"class\": \"skill-required\"}) else False\n",
    "            savoirs.append((savoir, requis))\n",
    "    annonce[\"compétences\"] = competences\n",
    "    annonce[\"savoirs\"] = savoirs\n",
    "    infos = soup.find(\"div\", {\"class\": \"description-aside col-sm-4 col-md-5\"}).select(\"dd\")\n",
    "    type_contrat = infos[0].text\n",
    "    hebdo = infos[1].text\n",
    "    divers = [item.text for item in infos[2:]]\n",
    "    annonce[\"type_contrat\"] = type_contrat\n",
    "    annonce[\"heures_hebdo\"] = hebdo\n",
    "    annonce[\"divers\"] = divers\n",
    "    return annonce\n",
    "annonce = parse_soup(soup)"
   ]
  },
  {
   "cell_type": "code",
   "execution_count": 67,
   "metadata": {},
   "outputs": [
    {
     "data": {
      "text/plain": [
       "{'intitule_poste': 'Data engineer (H/F)',\n",
       " 'description': \"IONE Talents & Technology, société de Conseil en Système d'Information avec une forte expertise métier créée par un expert dans le domaine de la data, IONE Talents & Technology c'est surtout un ensemble de consultant.e.s capables d'intervenir à tous les niveaux d'un Système d'Information.\\n\\nSi vous souhaitez rejoindre une entreprise à taille humaine où chaque employé peut avoir un réel rôle à jouer dans son développement, vous êtes au bon endroit.\\n\\nDans le cadre de notre croissance sur la région d'ile de France, nous recrutons actuellement un(e) Data engineer IT en CDI pour pour intervenir chez nos clients dans la mise en place de nouveaux projets.\\n\\n\\nProfil recherché : \\n- Expérience significative dans un environnement Cloud (AWS, Azure, GCP) \\n- Pratique confirmée des méthodes Agiles \\n Compétences techniques \\n- Maîtrise des langages de programmation : Python 3, Scala, Spark \\n- Expertise en technologies Big Data : Hadoop, Kafka, Hive \\n- Expérience approfondie des bases de données SQL et NoSQL : PostgreSQL, MongoDB, Cassandra \\n- Maîtrise des outils DevOps : Docker, Git, Kubernetes (AKS) \\n- Expérience en visualisation de données : Power BI, Tableau, Jupyter \\n- La connaissance de Streamlit/Dash et des outils d'infrastructure as code (Terraform, Ansible) est un plus \\n- Curiosité intellectuelle et passion pour le traitement des données massives \\n- Excellentes capacités de communication en français et en anglais \\n- Aptitude à travailler dans un environnement international\\n- Maîtrise d'un ou plusieurs outils d'alimentation ETL (SSIS,Talend.),\\n\\nAu-delà de votre formation et de votre expertise, nous recherchons de futurs collaborateurs motivés par la perspective d'intégrer une structure à taille humaine en pleine croissance, exigeante et favorisant l'esprit d'équipe.\",\n",
       " 'experience': {'exp': 'Débutant accepté', 'requis': False},\n",
       " 'compétences': [('Actualiser régulièrement ses connaissances', True),\n",
       "  ('Adapter les méthodes de travail à la réglementation locale', True),\n",
       "  ('Algorithmique', True),\n",
       "  (\"Analyser / traiter l'information à des fins d'anticipation\", True),\n",
       "  ('Analyser, exploiter, structurer des données', True),\n",
       "  ('Anglais technique', True),\n",
       "  ('Business Intelligence (BI) / Informatique décisionnelle', True),\n",
       "  ('Collaborer dans un groupe pour réaliser un projet', True),\n",
       "  (\"Communiquer à l'écrit de façon appropriée\", True),\n",
       "  ('Concevoir et gérer un projet', True),\n",
       "  ('Convaincre en argumentant avec un ou plusieurs interlocuteurs (interne et externe)',\n",
       "   True),\n",
       "  ('Data engineer', True),\n",
       "  ('Définir les solutions de stockage et de structuration des données', True),\n",
       "  ('Déploiement de services cloud (cloud computing)', True),\n",
       "  (\"Déployer, intégrer un logiciel, un système d'informations, une application\",\n",
       "   True),\n",
       "  ('Développer une application en lien avec une base de données', True),\n",
       "  ('Enrichir une base de données', True),\n",
       "  ('Expliquer et faire respecter les règles et procédures', True),\n",
       "  ('Gérer et maitriser des bases de données (SQL/NoSQL)', True),\n",
       "  ('Gérer une architecture technique', True),\n",
       "  ('Identifier ses axes de progrès', True),\n",
       "  ('Informatique scientifique et technique', True),\n",
       "  (\"Mettre en place des solutions d'amélioration de la performance\", True),\n",
       "  ('Modéliser une base de données', True),\n",
       "  ('Programmation en Python', True),\n",
       "  ('Recueillir et analyser les besoins client', True),\n",
       "  ('Réaliser une analyse ou modélisation statistique de données', True),\n",
       "  ('Technologies HADOOP', True),\n",
       "  ('Technologies SPARK (Framework)', True),\n",
       "  (\"Tester un logiciel, un système d'informations, une application\", True),\n",
       "  ('Vérifier la compatibilité des développements produits avec les spécifications',\n",
       "   True)],\n",
       " 'savoirs': [],\n",
       " 'type_contrat': '\\nCDI\\n\\nContrat travail\\n',\n",
       " 'heures_hebdo': '\\n40H Autre\\n',\n",
       " 'divers': ['Salaire brut : Selon Expérience',\n",
       "  'Déplacements\\xa0: Quotidiens Zone nationale']}"
      ]
     },
     "execution_count": 67,
     "metadata": {},
     "output_type": "execute_result"
    }
   ],
   "source": [
    "annonce"
   ]
  },
  {
   "cell_type": "code",
   "execution_count": 49,
   "metadata": {},
   "outputs": [
    {
     "name": "stdout",
     "output_type": "stream",
     "text": [
      "✅ Connection successful!\n"
     ]
    }
   ],
   "source": [
    "import psycopg2\n",
    "\n",
    "try:\n",
    "    conn = psycopg2.connect(\n",
    "        dbname=\"webmining\",\n",
    "        user=\"postgres\",\n",
    "        password=\"postgres\",\n",
    "        host=\"localhost\",  # If connecting from outside Docker\n",
    "        port=\"5432\"\n",
    "    )\n",
    "    print(\"✅ Connection successful!\")\n",
    "    conn.close()\n",
    "except Exception as e:\n",
    "    print(\"❌ Connection failed:\", e)\n"
   ]
  },
  {
   "cell_type": "code",
   "execution_count": 59,
   "metadata": {},
   "outputs": [
    {
     "name": "stdout",
     "output_type": "stream",
     "text": [
      "✅ All tables dropped successfully!\n"
     ]
    }
   ],
   "source": [
    "import psycopg2\n",
    "\n",
    "conn = psycopg2.connect(\n",
    "    dbname=\"webmining\",\n",
    "    user=\"postgres\",\n",
    "    password=\"postgres\",\n",
    "    host=\"localhost\",  # Change if using Docker\n",
    "    port=\"5432\"\n",
    ")\n",
    "\n",
    "cur = conn.cursor()\n",
    "\n",
    "# Drop all tables in the public schema\n",
    "drop_tables_sql = \"\"\"\n",
    "DO $$ \n",
    "DECLARE\n",
    "    r RECORD;\n",
    "BEGIN\n",
    "    FOR r IN (SELECT tablename FROM pg_tables WHERE schemaname = 'public') LOOP\n",
    "        EXECUTE 'DROP TABLE IF EXISTS public.' || r.tablename || ' CASCADE';\n",
    "    END LOOP;\n",
    "END $$;\n",
    "\"\"\"\n",
    "\n",
    "cur.execute(drop_tables_sql)\n",
    "conn.commit()\n",
    "\n",
    "print(\"✅ All tables dropped successfully!\")\n",
    "\n",
    "cur.close()\n",
    "conn.close()\n"
   ]
  },
  {
   "cell_type": "code",
   "execution_count": 60,
   "metadata": {},
   "outputs": [
    {
     "name": "stdout",
     "output_type": "stream",
     "text": [
      "✅ Tables created successfully!\n"
     ]
    }
   ],
   "source": [
    "import psycopg2\n",
    "\n",
    "conn = psycopg2.connect(\n",
    "    dbname=\"webmining\",\n",
    "    user=\"postgres\",\n",
    "    password=\"postgres\",\n",
    "    host=\"localhost\",  # Change if using Docker\n",
    "    port=\"5432\"\n",
    ")\n",
    "\n",
    "cur = conn.cursor()\n",
    "\n",
    "\n",
    "# Table creation queries\n",
    "with open(\"db_webmining.sql\", \"r\") as f:\n",
    "    create_tables_sql = f.read()\n",
    "\n",
    "cur.execute(create_tables_sql)\n",
    "conn.commit()\n",
    "\n",
    "print(\"✅ Tables created successfully!\")\n",
    "\n",
    "cur.close()\n",
    "conn.close()\n"
   ]
  },
  {
   "cell_type": "code",
   "execution_count": 61,
   "metadata": {},
   "outputs": [],
   "source": [
    "import psycopg2\n",
    "\n",
    "# Connexion à la base de données PostgreSQL\n",
    "conn = psycopg2.connect(\n",
    "    dbname=\"webmining\",\n",
    "    user=\"postgres\",\n",
    "    password=\"postgres\",\n",
    "    host=\"localhost\",\n",
    "    port=\"5432\"\n",
    ")\n",
    "cur = conn.cursor()\n",
    "\n",
    "\n",
    "\n",
    "# Insertion des données dans la table postes\n",
    "# Insert competences (if not already inserted)\n",
    "for competence, requis in competences:\n",
    "    cur.execute(\"\"\"\n",
    "        INSERT INTO competences (nom, requis)\n",
    "        VALUES (%s, %s)\n",
    "        ON CONFLICT (nom) DO NOTHING;\n",
    "    \"\"\", (competence, requis))\n",
    "\n",
    "# Insertion des savoirs\n",
    "for savoir, requis in savoirs:\n",
    "    cur.execute(\"\"\"\n",
    "        INSERT INTO savoirs (nom, requis)\n",
    "        VALUES (%s, %s, %s);\n",
    "    \"\"\", (savoir, requis))\n",
    "\n",
    "# Insert postes (job positions)\n",
    "cur.execute(\"\"\"\n",
    "    INSERT INTO postes (intitule_poste, description, experience, type_contrat, hebdo, divers)\n",
    "    VALUES (%s, %s, %s, %s, %s, %s)\n",
    "    RETURNING id;\n",
    "\"\"\", (intitule_poste, description, experience, type_contrat, hebdo, divers))\n",
    "\n",
    "poste_id = cur.fetchone()[0]\n",
    "\n",
    "for competence, requis in competences:\n",
    "    # Insert relationship into the junction table\n",
    "    cur.execute(\"\"\"\n",
    "        INSERT INTO poste_competences (poste_id, competence_id)\n",
    "        SELECT %s, id FROM competences WHERE nom = %s;\n",
    "    \"\"\", (poste_id, competence))\n",
    "\n",
    "for savoir, requis in competences:\n",
    "    cur.execute(\"\"\"\n",
    "        INSERT INTO poste_savoirs (poste_id, savoirs_id)\n",
    "        SELECT %s, id FROM savoirs WHERE nom = %s;\n",
    "    \"\"\", (poste_id, savoir))\n",
    "\n",
    "\n",
    "\n",
    "# Validation des modifications et fermeture de la connexion\n",
    "conn.commit()\n",
    "cur.close()\n",
    "conn.close()\n"
   ]
  },
  {
   "cell_type": "code",
   "execution_count": 63,
   "metadata": {},
   "outputs": [
    {
     "name": "stdout",
     "output_type": "stream",
     "text": [
      "Poste: Data engineer (H/F), Competence: Actualiser régulièrement ses connaissances, Requis: True\n",
      "Poste: Data engineer (H/F), Competence: Adapter les méthodes de travail à la réglementation locale, Requis: True\n",
      "Poste: Data engineer (H/F), Competence: Algorithmique, Requis: True\n",
      "Poste: Data engineer (H/F), Competence: Analyser / traiter l'information à des fins d'anticipation, Requis: True\n",
      "Poste: Data engineer (H/F), Competence: Analyser, exploiter, structurer des données, Requis: True\n",
      "Poste: Data engineer (H/F), Competence: Anglais technique, Requis: True\n",
      "Poste: Data engineer (H/F), Competence: Business Intelligence (BI) / Informatique décisionnelle, Requis: True\n",
      "Poste: Data engineer (H/F), Competence: Collaborer dans un groupe pour réaliser un projet, Requis: True\n",
      "Poste: Data engineer (H/F), Competence: Communiquer à l'écrit de façon appropriée, Requis: True\n",
      "Poste: Data engineer (H/F), Competence: Concevoir et gérer un projet, Requis: True\n",
      "Poste: Data engineer (H/F), Competence: Convaincre en argumentant avec un ou plusieurs interlocuteurs (interne et externe), Requis: True\n",
      "Poste: Data engineer (H/F), Competence: Data engineer, Requis: True\n",
      "Poste: Data engineer (H/F), Competence: Définir les solutions de stockage et de structuration des données, Requis: True\n",
      "Poste: Data engineer (H/F), Competence: Déploiement de services cloud (cloud computing), Requis: True\n",
      "Poste: Data engineer (H/F), Competence: Déployer, intégrer un logiciel, un système d'informations, une application, Requis: True\n",
      "Poste: Data engineer (H/F), Competence: Développer une application en lien avec une base de données, Requis: True\n",
      "Poste: Data engineer (H/F), Competence: Enrichir une base de données, Requis: True\n",
      "Poste: Data engineer (H/F), Competence: Expliquer et faire respecter les règles et procédures, Requis: True\n",
      "Poste: Data engineer (H/F), Competence: Gérer et maitriser des bases de données (SQL/NoSQL), Requis: True\n",
      "Poste: Data engineer (H/F), Competence: Gérer une architecture technique, Requis: True\n",
      "Poste: Data engineer (H/F), Competence: Identifier ses axes de progrès, Requis: True\n",
      "Poste: Data engineer (H/F), Competence: Informatique scientifique et technique, Requis: True\n",
      "Poste: Data engineer (H/F), Competence: Mettre en place des solutions d'amélioration de la performance, Requis: True\n",
      "Poste: Data engineer (H/F), Competence: Modéliser une base de données, Requis: True\n",
      "Poste: Data engineer (H/F), Competence: Programmation en Python, Requis: True\n",
      "Poste: Data engineer (H/F), Competence: Recueillir et analyser les besoins client, Requis: True\n",
      "Poste: Data engineer (H/F), Competence: Réaliser une analyse ou modélisation statistique de données, Requis: True\n",
      "Poste: Data engineer (H/F), Competence: Technologies HADOOP, Requis: True\n",
      "Poste: Data engineer (H/F), Competence: Technologies SPARK (Framework), Requis: True\n",
      "Poste: Data engineer (H/F), Competence: Tester un logiciel, un système d'informations, une application, Requis: True\n",
      "Poste: Data engineer (H/F), Competence: Vérifier la compatibilité des développements produits avec les spécifications, Requis: True\n"
     ]
    }
   ],
   "source": [
    "import psycopg2\n",
    "\n",
    "# Connexion à la base de données PostgreSQL\n",
    "conn = psycopg2.connect(\n",
    "    dbname=\"webmining\",\n",
    "    user=\"postgres\",\n",
    "    password=\"postgres\",\n",
    "    host=\"localhost\",\n",
    "    port=\"5432\"\n",
    ")\n",
    "\n",
    "cur = conn.cursor()\n",
    "\n",
    "# Define the poste_id you want to query for (e.g., 1)\n",
    "poste_id = 1\n",
    "\n",
    "# SQL Query to retrieve competences for a specific poste\n",
    "query = '''\n",
    "SELECT p.intitule_poste, c.nom AS competence, c.requis\n",
    "FROM postes p\n",
    "JOIN poste_competences pc ON p.id = pc.poste_id\n",
    "JOIN competences c ON pc.competence_id = c.id\n",
    "WHERE p.id = %s;\n",
    "'''\n",
    "\n",
    "# Execute the query with the specific poste_id\n",
    "cur.execute(query, (poste_id,))\n",
    "\n",
    "# Fetch the results\n",
    "competences = cur.fetchall()\n",
    "\n",
    "# Print the results\n",
    "for row in competences:\n",
    "    print(f\"Poste: {row[0]}, Competence: {row[1]}, Requis: {row[2]}\")\n",
    "\n",
    "# Close the cursor and connection\n",
    "cur.close()\n",
    "conn.close()\n"
   ]
  }
 ],
 "metadata": {
  "kernelspec": {
   "display_name": "webmining",
   "language": "python",
   "name": "python3"
  },
  "language_info": {
   "codemirror_mode": {
    "name": "ipython",
    "version": 3
   },
   "file_extension": ".py",
   "mimetype": "text/x-python",
   "name": "python",
   "nbconvert_exporter": "python",
   "pygments_lexer": "ipython3",
   "version": "3.12.9"
  }
 },
 "nbformat": 4,
 "nbformat_minor": 2
}
