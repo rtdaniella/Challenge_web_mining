{
 "cells": [
  {
   "cell_type": "code",
   "execution_count": 134,
   "metadata": {},
   "outputs": [],
   "source": [
    "import psycopg2\n",
    "import pandas as pd\n",
    "import string\n",
    "from nltk.corpus import stopwords\n",
    "import nltk\n",
    "from nltk.tokenize import word_tokenize\n",
    "import re\n",
    "from nltk.stem import SnowballStemmer\n",
    "import spacy\n",
    "import joblib\n",
    "from sklearn.feature_extraction.text import CountVectorizer, TfidfVectorizer\n",
    "import matplotlib.pyplot as plt\n",
    "from wordcloud import WordCloud\n",
    "from sklearn.manifold import TSNE\n",
    "from sklearn.decomposition import PCA\n",
    "import matplotlib.pyplot as plt\n",
    "import numpy as np\n",
    "import torch"
   ]
  },
  {
   "cell_type": "code",
   "execution_count": 141,
   "metadata": {},
   "outputs": [
    {
     "name": "stderr",
     "output_type": "stream",
     "text": [
      "C:\\Users\\Joel\\AppData\\Local\\Temp\\ipykernel_21948\\568194636.py:9: UserWarning:\n",
      "\n",
      "pandas only supports SQLAlchemy connectable (engine/connection) or database string URI or sqlite3 DBAPI2 connection. Other DBAPI2 objects are not tested. Please consider using SQLAlchemy.\n",
      "\n",
      "C:\\Users\\Joel\\AppData\\Local\\Temp\\ipykernel_21948\\568194636.py:11: UserWarning:\n",
      "\n",
      "pandas only supports SQLAlchemy connectable (engine/connection) or database string URI or sqlite3 DBAPI2 connection. Other DBAPI2 objects are not tested. Please consider using SQLAlchemy.\n",
      "\n",
      "C:\\Users\\Joel\\AppData\\Local\\Temp\\ipykernel_21948\\568194636.py:13: UserWarning:\n",
      "\n",
      "pandas only supports SQLAlchemy connectable (engine/connection) or database string URI or sqlite3 DBAPI2 connection. Other DBAPI2 objects are not tested. Please consider using SQLAlchemy.\n",
      "\n"
     ]
    }
   ],
   "source": [
    "conn = psycopg2.connect(\n",
    "    dbname=\"webmining\",\n",
    "    user=\"postgres\",\n",
    "    password=\"postgres\",\n",
    "    host=\"localhost\",\n",
    "    port=\"5432\"\n",
    ")\n",
    "\n",
    "df_annonces = pd.read_sql_query(\"SELECT reference, intitule_poste, description, experience, divers FROM annonces\", conn)\n",
    "\n",
    "df_competences = pd.read_sql_query(\"SELECT * FROM competences\", conn)\n",
    "\n",
    "df_annonce_competences = pd.read_sql_query(\"\"\"\n",
    "    SELECT p.reference, p.intitule_poste, p.description, p.experience, p.divers, c.nom, c.requis\n",
    "    FROM annonces p\n",
    "    JOIN annonce_competences pc ON p.reference = pc.annonce_reference\n",
    "    JOIN competences c ON pc.competence_id = c.id\n",
    "\"\"\", conn)\n",
    "\n",
    "conn.close()\n"
   ]
  },
  {
   "cell_type": "code",
   "execution_count": 142,
   "metadata": {},
   "outputs": [
    {
     "name": "stdout",
     "output_type": "stream",
     "text": [
      "<class 'pandas.core.frame.DataFrame'>\n",
      "RangeIndex: 112 entries, 0 to 111\n",
      "Data columns (total 5 columns):\n",
      " #   Column          Non-Null Count  Dtype \n",
      "---  ------          --------------  ----- \n",
      " 0   reference       112 non-null    object\n",
      " 1   intitule_poste  112 non-null    object\n",
      " 2   description     112 non-null    object\n",
      " 3   experience      112 non-null    object\n",
      " 4   divers          112 non-null    object\n",
      "dtypes: object(5)\n",
      "memory usage: 4.5+ KB\n"
     ]
    }
   ],
   "source": [
    "df_annonces.info()"
   ]
  },
  {
   "cell_type": "code",
   "execution_count": 143,
   "metadata": {},
   "outputs": [
    {
     "name": "stdout",
     "output_type": "stream",
     "text": [
      "<class 'pandas.core.frame.DataFrame'>\n",
      "RangeIndex: 483 entries, 0 to 482\n",
      "Data columns (total 7 columns):\n",
      " #   Column          Non-Null Count  Dtype \n",
      "---  ------          --------------  ----- \n",
      " 0   reference       483 non-null    object\n",
      " 1   intitule_poste  483 non-null    object\n",
      " 2   description     483 non-null    object\n",
      " 3   experience      483 non-null    object\n",
      " 4   divers          483 non-null    object\n",
      " 5   nom             483 non-null    object\n",
      " 6   requis          483 non-null    bool  \n",
      "dtypes: bool(1), object(6)\n",
      "memory usage: 23.2+ KB\n"
     ]
    }
   ],
   "source": [
    "df_annonce_competences.info()"
   ]
  },
  {
   "cell_type": "code",
   "execution_count": 144,
   "metadata": {},
   "outputs": [],
   "source": [
    "# ajout des compétences dans le dataframe des annonces\n",
    "for reference in df_annonces.loc[:,\"reference\"]:\n",
    "    df_annonces.loc[df_annonces[\"reference\"]==reference,\"competences\"] = \" \".join(df_annonce_competences.loc[df_annonce_competences[\"reference\"] == reference,\"nom\"])"
   ]
  },
  {
   "cell_type": "code",
   "execution_count": 145,
   "metadata": {},
   "outputs": [
    {
     "data": {
      "text/html": [
       "<div>\n",
       "<style scoped>\n",
       "    .dataframe tbody tr th:only-of-type {\n",
       "        vertical-align: middle;\n",
       "    }\n",
       "\n",
       "    .dataframe tbody tr th {\n",
       "        vertical-align: top;\n",
       "    }\n",
       "\n",
       "    .dataframe thead th {\n",
       "        text-align: right;\n",
       "    }\n",
       "</style>\n",
       "<table border=\"1\" class=\"dataframe\">\n",
       "  <thead>\n",
       "    <tr style=\"text-align: right;\">\n",
       "      <th></th>\n",
       "      <th>reference</th>\n",
       "      <th>intitule_poste</th>\n",
       "      <th>description</th>\n",
       "      <th>experience</th>\n",
       "      <th>divers</th>\n",
       "      <th>competences</th>\n",
       "    </tr>\n",
       "  </thead>\n",
       "  <tbody>\n",
       "    <tr>\n",
       "      <th>0</th>\n",
       "      <td>0907189</td>\n",
       "      <td>Développeur Big Data H/F</td>\n",
       "      <td>POSTE : Développeur Big Data H/F\\nDESCRIPTION ...</td>\n",
       "      <td>Expérience exigée</td>\n",
       "      <td></td>\n",
       "      <td></td>\n",
       "    </tr>\n",
       "    <tr>\n",
       "      <th>1</th>\n",
       "      <td>1286647</td>\n",
       "      <td>Développeur / Développeuse Big Data (H/F)</td>\n",
       "      <td>Nous recherchons un Data Engineer Sénior pour ...</td>\n",
       "      <td>Expérience exigée de 5 An(s)</td>\n",
       "      <td></td>\n",
       "      <td></td>\n",
       "    </tr>\n",
       "    <tr>\n",
       "      <th>2</th>\n",
       "      <td>1480816</td>\n",
       "      <td>Data Scientist - Alternance H/F</td>\n",
       "      <td>POSTE : Data Scientist - Alternance H/F\\nDESCR...</td>\n",
       "      <td>Expérience exigée</td>\n",
       "      <td></td>\n",
       "      <td></td>\n",
       "    </tr>\n",
       "    <tr>\n",
       "      <th>3</th>\n",
       "      <td>186RJZQ</td>\n",
       "      <td>Data Engineer (H/F)</td>\n",
       "      <td>Weldom, une rencontre évidente\\nDes défis à re...</td>\n",
       "      <td>2 An(s)</td>\n",
       "      <td>Salaire brut : A NEGOCIER</td>\n",
       "      <td>Analyser, exploiter, structurer des données Co...</td>\n",
       "    </tr>\n",
       "    <tr>\n",
       "      <th>4</th>\n",
       "      <td>187NTTM</td>\n",
       "      <td>Développeur/Développeuse Python et Data Engine...</td>\n",
       "      <td>Vous avez une expérience en matière Python et ...</td>\n",
       "      <td>5 An(s)</td>\n",
       "      <td>Salaire brut : A partir de 2 117,88  € nets</td>\n",
       "      <td>Faire preuve de curiosité Prendre des initiati...</td>\n",
       "    </tr>\n",
       "  </tbody>\n",
       "</table>\n",
       "</div>"
      ],
      "text/plain": [
       "  reference                                     intitule_poste  \\\n",
       "0   0907189                           Développeur Big Data H/F   \n",
       "1   1286647          Développeur / Développeuse Big Data (H/F)   \n",
       "2   1480816                    Data Scientist - Alternance H/F   \n",
       "3   186RJZQ                                Data Engineer (H/F)   \n",
       "4   187NTTM  Développeur/Développeuse Python et Data Engine...   \n",
       "\n",
       "                                         description  \\\n",
       "0  POSTE : Développeur Big Data H/F\\nDESCRIPTION ...   \n",
       "1  Nous recherchons un Data Engineer Sénior pour ...   \n",
       "2  POSTE : Data Scientist - Alternance H/F\\nDESCR...   \n",
       "3  Weldom, une rencontre évidente\\nDes défis à re...   \n",
       "4  Vous avez une expérience en matière Python et ...   \n",
       "\n",
       "                     experience                                       divers  \\\n",
       "0             Expérience exigée                                                \n",
       "1  Expérience exigée de 5 An(s)                                                \n",
       "2             Expérience exigée                                                \n",
       "3                       2 An(s)                    Salaire brut : A NEGOCIER   \n",
       "4                       5 An(s)  Salaire brut : A partir de 2 117,88  € nets   \n",
       "\n",
       "                                         competences  \n",
       "0                                                     \n",
       "1                                                     \n",
       "2                                                     \n",
       "3  Analyser, exploiter, structurer des données Co...  \n",
       "4  Faire preuve de curiosité Prendre des initiati...  "
      ]
     },
     "execution_count": 145,
     "metadata": {},
     "output_type": "execute_result"
    }
   ],
   "source": [
    "df_annonces.head()"
   ]
  },
  {
   "cell_type": "code",
   "execution_count": 147,
   "metadata": {},
   "outputs": [
    {
     "name": "stdout",
     "output_type": "stream",
     "text": [
      "<class 'pandas.core.frame.DataFrame'>\n",
      "RangeIndex: 112 entries, 0 to 111\n",
      "Data columns (total 6 columns):\n",
      " #   Column          Non-Null Count  Dtype \n",
      "---  ------          --------------  ----- \n",
      " 0   reference       112 non-null    object\n",
      " 1   intitule_poste  112 non-null    object\n",
      " 2   description     112 non-null    object\n",
      " 3   experience      112 non-null    object\n",
      " 4   divers          112 non-null    object\n",
      " 5   competences     112 non-null    object\n",
      "dtypes: object(6)\n",
      "memory usage: 5.4+ KB\n"
     ]
    }
   ],
   "source": [
    "df_annonces.info()"
   ]
  },
  {
   "cell_type": "code",
   "execution_count": 148,
   "metadata": {},
   "outputs": [
    {
     "name": "stderr",
     "output_type": "stream",
     "text": [
      "[nltk_data] Downloading package stopwords to\n",
      "[nltk_data]     C:\\Users\\Joel\\AppData\\Roaming\\nltk_data...\n",
      "[nltk_data]   Package stopwords is already up-to-date!\n",
      "[nltk_data] Downloading package punkt to\n",
      "[nltk_data]     C:\\Users\\Joel\\AppData\\Roaming\\nltk_data...\n",
      "[nltk_data]   Package punkt is already up-to-date!\n"
     ]
    }
   ],
   "source": [
    "nltk.download('stopwords')\n",
    "stop_words = set(stopwords.words('french'))\n",
    "nltk.download('punkt')\n",
    "nlp = spacy.load(\"fr_core_news_sm\")"
   ]
  },
  {
   "cell_type": "code",
   "execution_count": 149,
   "metadata": {},
   "outputs": [],
   "source": [
    "# import des stopwords proposés par Gilles Bastin\n",
    "# https://github.com/gillesbastin/french_stopwords\n",
    "\n",
    "stop_Bastin = pd.read_csv(\"french_stopwords.csv\", sep=\";\")"
   ]
  },
  {
   "cell_type": "markdown",
   "metadata": {},
   "source": [
    "## custom stopwords\n",
    "liste de mots qui sont remontés lors des premières itérations"
   ]
  },
  {
   "cell_type": "code",
   "execution_count": 150,
   "metadata": {},
   "outputs": [
    {
     "data": {
      "text/plain": [
       "'\\n    \"achat\", \"accompagner\", \"assurer\", \"besoins\", \"bnf\", \"capacité\", \"capacités\", \"client\", \"compétence\", \"compétences\",\\n    \"connaissance\", \"data\", \"DIGITALENT\", \"donnees\", \"entreprise\", \"expérience\", \"expériences\", \\n    \"expertise\", \"fort\", \"formation\", \"gestion\", \"groupe\", \"informatique\" \"Itéa\", \"logiciel\", \"mission\", \"missions\", \\n    \"niveau\", \"outils\", \"outil\", \"plus\", \"poste\", \"postes\", \"présent\", \"profil\", \"RCA\", \"salesforce\", \\n    \"seins\", \"sein\", \"société\", \"solution\", \"solutions\", \"support\", \"suivre\", \"technique\", \"techniques\", \\n    \"travailler\", \"travail\", \"utilisateur\", \"équipe\", \"équipes\", \"être\", \\n    \"métier\", \"métiers\", \"nouveau\", \"niveau\", \"présent\"\\n    '"
      ]
     },
     "execution_count": 150,
     "metadata": {},
     "output_type": "execute_result"
    }
   ],
   "source": [
    "'''\n",
    "    \"achat\", \"accompagner\", \"assurer\", \"besoins\", \"bnf\", \"capacité\", \"capacités\", \"client\", \"compétence\", \"compétences\",\n",
    "    \"connaissance\", \"data\", \"DIGITALENT\", \"donnees\", \"entreprise\", \"expérience\", \"expériences\", \n",
    "    \"expertise\", \"fort\", \"formation\", \"gestion\", \"groupe\", \"informatique\" \"Itéa\", \"logiciel\", \"mission\", \"missions\", \n",
    "    \"niveau\", \"outils\", \"outil\", \"plus\", \"poste\", \"postes\", \"présent\", \"profil\", \"RCA\", \"salesforce\", \n",
    "    \"seins\", \"sein\", \"société\", \"solution\", \"solutions\", \"support\", \"suivre\", \"technique\", \"techniques\", \n",
    "    \"travailler\", \"travail\", \"utilisateur\", \"équipe\", \"équipes\", \"être\", \n",
    "    \"métier\", \"métiers\", \"nouveau\", \"niveau\", \"présent\"\n",
    "    '''"
   ]
  },
  {
   "cell_type": "code",
   "execution_count": 325,
   "metadata": {},
   "outputs": [],
   "source": [
    "stop = {\n",
    "    \"klanik\", \"bosch\",\"activités\",\"assure\", \"permettant\", \"partenaires\", \"côtés\", \"digixart\", \"amené\", \"pricing\", \"rythme\", \"développée\", \"précision\", \"daurade\", \"exécuter\", \"vacances\", \"clients\", \"données\", \"data\", \"expérience\", \"équipes\", \"compétences\", \"mission\", \"groupe\", \"solutions\", \"travail\", \"salesforce\", \"techniques\", \"projets\",\"métiers\", \"technique\", \"outils\", \"équipe\", \"poste\", \"traitement\", \"an\", \"agence\", \"commerciale\", \"marketing\", \"différents\", \"idéalement\", \"activité\", \"logiciel\", \"niveau\", \"connaissance\", \"maîtrise\",\"faciliter\", \"profil\", \"participer\", \"bons\", \"business\", \"projet\", \"manipulation\", \"rejoignez\", \"légumes\", \"fruits\", \"tickets\", \"building\", \"entreprise\", \"assurer\", \"métier\", \"tests\", \"complexes\", \"gestion\", \"capacité\", \"formation\", \"répondront\", \"construction\", \"outil\", \"team\", \"offre\", \"programme\", \"sein\", \"mise\", \"clarté\", \"travailler\", \"manuels\", \"suivi\", \"accompagner\", \"définition\", \"famille\", \"direction\", \"prime\", \"primes\", \"utilisateurs\", \"familiale\", \"annuelle\", \"issu\", \"rémunération\"\n",
    "}\n",
    "\n"
   ]
  },
  {
   "cell_type": "markdown",
   "metadata": {},
   "source": [
    "# preprocessing"
   ]
  },
  {
   "cell_type": "code",
   "execution_count": 326,
   "metadata": {},
   "outputs": [
    {
     "name": "stderr",
     "output_type": "stream",
     "text": [
      "[nltk_data] Downloading package stopwords to\n",
      "[nltk_data]     C:\\Users\\Joel\\AppData\\Roaming\\nltk_data...\n",
      "[nltk_data]   Package stopwords is already up-to-date!\n",
      "[nltk_data] Downloading package punkt to\n",
      "[nltk_data]     C:\\Users\\Joel\\AppData\\Roaming\\nltk_data...\n",
      "[nltk_data]   Package punkt is already up-to-date!\n"
     ]
    }
   ],
   "source": [
    "nltk.download('stopwords')\n",
    "stop_words = set(stopwords.words('french'))\n",
    "nltk.download('punkt')\n",
    "nlp = spacy.load(\"fr_core_news_sm\")\n",
    "\n",
    "stop_words.update(stop)\n",
    "stop_words.update(set(stop_Bastin[\"token\"]))\n",
    "\n",
    "def preprocess(texts: str):\n",
    "    '''\n",
    "    supprime les nombres seuls (5, 10)\n",
    "    '''\n",
    "    cleaned_texts = []\n",
    "    stems_texts = []\n",
    "    lemmas_texts = []\n",
    "    stemmer = SnowballStemmer(\"french\")\n",
    "\n",
    "    for text in texts:\n",
    "        text = text.replace(\"\\n\", \" \")\n",
    "        text = text.lower()\n",
    "        text = text.replace(\"ci/cd\", \"ci_cd\").replace(\"power-bi\", \"power_bi\").replace(\"big.data\", \"big_data\")\n",
    "        text = re.sub(r\"[^\\w\\s_]\", \" \", text)\n",
    "        text = text.replace(\"ci_cd\", \"ci/cd\").replace(\"power_bi\", \"power-bi\").replace(\"big_data\", \"big-data\")\n",
    "        text = re.sub(r\"gestion de projets?\", \"gestion-de-projet\", text)\n",
    "        text = re.sub(r\"_\", \" \", text)\n",
    "        text = re.sub(r'\\b\\d+\\b', '', text)\n",
    "        # text = re.sub(f\"[{string.punctuation}]\", \" \", text)\n",
    "        text = ' '.join([word for word in text.split() if word not in stop_words])\n",
    "\n",
    "        #stemming\n",
    "        tokens = word_tokenize(text)\n",
    "        stems = \" \".join([stemmer.stem(word) for word in tokens])\n",
    "\n",
    "        #lematize\n",
    "        doc = nlp(text)\n",
    "        lemmas = \" \".join([token.lemma_ for token in doc])\n",
    "        \n",
    "        cleaned_texts.append(text)\n",
    "        stems_texts.append(stems)\n",
    "        lemmas_texts.append(lemmas)\n",
    "\n",
    "\n",
    "    return cleaned_texts, stems_texts, lemmas_texts"
   ]
  },
  {
   "cell_type": "code",
   "execution_count": 327,
   "metadata": {},
   "outputs": [],
   "source": [
    "texts = df_annonces[\"description\"] + df_annonces[\"competences\"]"
   ]
  },
  {
   "cell_type": "code",
   "execution_count": 328,
   "metadata": {},
   "outputs": [],
   "source": [
    "cleaned_text, stems_texts, lemmas_texts = preprocess(texts)"
   ]
  },
  {
   "cell_type": "markdown",
   "metadata": {},
   "source": [
    "# Clustering tfidf kmeans"
   ]
  },
  {
   "cell_type": "code",
   "execution_count": 329,
   "metadata": {},
   "outputs": [],
   "source": [
    "from sklearn.cluster import KMeans\n",
    "from sklearn.feature_extraction.text import TfidfVectorizer\n",
    "\n",
    "# Vectorize the job listings\n",
    "vectorizer = TfidfVectorizer()\n",
    "X = vectorizer.fit_transform(cleaned_text)\n"
   ]
  },
  {
   "cell_type": "code",
   "execution_count": 330,
   "metadata": {},
   "outputs": [],
   "source": [
    "# with open(\"./model/tfidf_cleaned.joblib\", \"wb\") as f: \n",
    "#     joblib.dump(vectorizer, f)"
   ]
  },
  {
   "cell_type": "code",
   "execution_count": 320,
   "metadata": {},
   "outputs": [],
   "source": [
    "with open(\"./model/tfidf_cleaned.joblib\", \"rb\") as f: \n",
    "    vectorizer = joblib.load(f)"
   ]
  },
  {
   "cell_type": "code",
   "execution_count": 331,
   "metadata": {},
   "outputs": [
    {
     "data": {
      "text/plain": [
       "(112, 3992)"
      ]
     },
     "execution_count": 331,
     "metadata": {},
     "output_type": "execute_result"
    }
   ],
   "source": [
    "X.shape"
   ]
  },
  {
   "cell_type": "code",
   "execution_count": 332,
   "metadata": {},
   "outputs": [],
   "source": [
    "with open(\"./tokens.txt\", \"w\")as f:\n",
    "    f.write(\"\\n\".join(vectorizer.get_feature_names_out()))"
   ]
  },
  {
   "cell_type": "code",
   "execution_count": 333,
   "metadata": {},
   "outputs": [
    {
     "data": {
      "text/plain": [
       "array([1, 0, 2, 2, 3, 2, 0, 0, 0, 0, 0, 0, 0, 2, 0, 2, 0, 2, 0, 2, 3, 2,\n",
       "       2, 2, 0, 0, 3, 0, 0, 0, 0, 0, 0, 3, 2, 0, 0, 0, 0, 0, 0, 0, 3, 0,\n",
       "       0, 0, 0, 0, 2, 0, 0, 2, 2, 2, 0, 0, 2, 2, 0, 2, 2, 3, 2, 0, 0, 0,\n",
       "       0, 1, 0, 3, 2, 3, 0, 0, 0, 3, 0, 3, 2, 2, 1, 2, 0, 3, 0, 0, 2, 0,\n",
       "       3, 3, 1, 0, 0, 0, 1, 0, 0, 3, 3, 0, 3, 3, 0, 0, 3, 0, 0, 0, 0, 0,\n",
       "       0, 2], dtype=int32)"
      ]
     },
     "execution_count": 333,
     "metadata": {},
     "output_type": "execute_result"
    }
   ],
   "source": [
    "\n",
    "# Apply KMeans clustering\n",
    "kmeans = KMeans(n_clusters=4, random_state=42)\n",
    "kmeans.fit(X)\n",
    "\n",
    "# Cluster labels\n",
    "labels = kmeans.labels_\n",
    "labels"
   ]
  },
  {
   "cell_type": "code",
   "execution_count": 334,
   "metadata": {},
   "outputs": [],
   "source": [
    "labels = kmeans.labels_"
   ]
  },
  {
   "cell_type": "code",
   "execution_count": 335,
   "metadata": {},
   "outputs": [
    {
     "name": "stdout",
     "output_type": "stream",
     "text": [
      "Cluster 0:\n",
      "cloud, sécurité, architecture, azure, concevoir, gérer, ia, infrastructures, développement, informatique\n",
      "\n",
      "Cluster 1:\n",
      "spark, big, sql, pl, stockage, pipelines, détecte, conduites, massif, développeur\n",
      "\n",
      "Cluster 2:\n",
      "ia, artificielle, learning, intelligence, science, machine, aise, modèles, bnf, développement\n",
      "\n",
      "Cluster 3:\n",
      "analyse, statistiques, analyst, alternance, power, bi, produits, performance, indicateurs, master\n",
      "\n"
     ]
    }
   ],
   "source": [
    "# Get the cluster centers (centroids)\n",
    "cluster_centers = kmeans.cluster_centers_\n",
    "\n",
    "# If you're using TF-IDF, the cluster centers will correspond to the terms in the vocabulary\n",
    "feature_names = vectorizer.get_feature_names_out()\n",
    "\n",
    "# Display the top terms for each cluster\n",
    "for i, center in enumerate(cluster_centers):\n",
    "    print(f\"Cluster {i}:\")\n",
    "    top_terms_idx = center.argsort()[-10:][::-1]  # Get indices of the top 10 terms\n",
    "    top_terms = [feature_names[idx] for idx in top_terms_idx]\n",
    "    print(\", \".join(top_terms))\n",
    "    print()\n"
   ]
  },
  {
   "cell_type": "code",
   "execution_count": 336,
   "metadata": {},
   "outputs": [
    {
     "data": {
      "image/png": "[encoded data removed]",
      "text/plain": [
       "<Figure size 1000x800 with 1 Axes>"
      ]
     },
     "metadata": {},
     "output_type": "display_data"
    }
   ],
   "source": [
    "from sklearn.manifold import TSNE\n",
    "import matplotlib.pyplot as plt\n",
    "\n",
    "# Apply t-SNE to reduce the dimensionality of the TF-IDF vectors\n",
    "tsne = TSNE(n_components=2, random_state=42)\n",
    "reduced_data = tsne.fit_transform(X.toarray())  # X is the TF-IDF matrix\n",
    "\n",
    "# Plot the t-SNE result\n",
    "plt.figure(figsize=(10, 8))\n",
    "\n",
    "# Scatter plot with clusters, color-coded by labels\n",
    "scatter = plt.scatter(reduced_data[:, 0], reduced_data[:, 1], c=labels, cmap='viridis', marker='o')\n",
    "\n",
    "# Add title and labels\n",
    "plt.title('t-SNE Visualisation des clusters (K-Means)')\n",
    "plt.xlabel('t-SNE Axe 1')\n",
    "plt.ylabel('t-SNE Axe 2')\n",
    "\n",
    "# Add legend (clusters represented by unique labels)\n",
    "plt.legend(*scatter.legend_elements(), title=\"Clusters\")\n",
    "\n",
    "plt.show()\n"
   ]
  },
  {
   "cell_type": "code",
   "execution_count": 337,
   "metadata": {},
   "outputs": [
    {
     "data": {
      "application/vnd.plotly.v1+json": {
       "config": {
        "plotlyServerURL": "https://plot.ly"
       },
       "data": [
        {
         "hovertemplate": "color=1<br>TSNE1=%{x}<br>TSNE2=%{y}<extra></extra>",
         "legendgroup": "1",
         "marker": {
          "color": "rgb(228,26,28)",
          "symbol": "circle"
         },
         "mode": "markers",
         "name": "1",
         "orientation": "v",
         "showlegend": true,
         "type": "scatter",
         "x": {
          "bdata": "zhZyv3kQEz+vS0M/IJk1PjXgJL4=",
          "dtype": "f4"
         },
         "xaxis": "x",
         "y": {
          "bdata": "2KvgP9/v5j/J18E+PPCIP+gQbD8=",
          "dtype": "f4"
         },
         "yaxis": "y"
        },
        {
         "hovertemplate": "color=0<br>TSNE1=%{x}<br>TSNE2=%{y}<extra></extra>",
         "legendgroup": "0",
         "marker": {
          "color": "rgb(55,126,184)",
          "symbol": "circle"
         },
         "mode": "markers",
         "name": "0",
         "orientation": "v",
         "showlegend": true,
         "type": "scatter",
         "x": {
          "bdata": "C422vhOG9L8etGFA54EKwNjRMUAOZKRAe6LJQEM0uT9Hvxs8QdR/wIb0wT9k/7lAbUzpQBtMxsDInhlB1ldUwG1y10BPeYvAihuOwEAY80Aq5E9AyzOqwJ4kE0GTAYxAx4NGQI4hRL77V8o/WNGFv+JfrECreHdAIepfwOmBNMDt3QhBK+qbPisAwEBvm9dA2F/ov5GRkb7IZBPBGYw9vzUEE8H7IZnAPVuGvhOeR0A5XNnAsMCbwO1N0EDuPf1ADHPNQFy0R0Fw37dAmh/RQB4zzUB4xUdB+8eBwH/3TUC3M77A3qjyQPlepEDWvX1AwnEdQOnuA0Hp7gNB",
          "dtype": "f4"
         },
         "xaxis": "x",
         "y": {
          "bdata": "xW/vv/ttjsBGZ/e+2/WNv7eGosA7FvHA6+6BwIN3CsHnidXA9h0zv7r74r/mUsXAllu/wM+XqMAygsLAe+apwAoCe0DSjhnALTEPwAxOAcE2RjHAF0M/PhuXgEBMy/jA7670wOuJRcC1+lvAwFWtwJxFHMHsEw/BKIGjP8OPV8Cx2rrAL7uKwLnugbuyhOTAv1VmwKnpTcFuPgzBuhdKQKeRC8FPcCbBnuFNwXvSG0BNBslA5hsqwRkoGkEPRsNATyPQQBTSnUBOywFABSwSQaJ/8EC+mZ1AurQOQCHRoj/GPyZAXuEgwAXHk8ANNbbAVbDJwL3sF8C97BfA",
          "dtype": "f4"
         },
         "yaxis": "y"
        },
        {
         "hovertemplate": "color=2<br>TSNE1=%{x}<br>TSNE2=%{y}<extra></extra>",
         "legendgroup": "2",
         "marker": {
          "color": "rgb(77,175,74)",
          "symbol": "circle"
         },
         "mode": "markers",
         "name": "2",
         "orientation": "v",
         "showlegend": true,
         "type": "scatter",
         "x": {
          "bdata": "8s6+P5nGCcGbrQ7AEK1GwbIQDMETIAzBZqBPwARSuMBe0xTBs+pGwTscu8AegpzAATiEwHvBT0Bb0tnA3PP5QF+NysBMUgtAGcapQCfbHsE/JIhAw/o8QHK+PkHApz5BnovhQEpRvEA=",
          "dtype": "f4"
         },
         "xaxis": "x",
         "y": {
          "bdata": "7qXxQLRmrb4i4w3B5n12wNPrN8DgTzjA5LaeQOmnDcAu1ZvA059vwOBsiD+Nf+/AcuUGwX2iTECACFVA77z3PyPykMBNTP5AgXOAQINecj8d5N1AcBOjQLMpTz96SE4/sZ+rQN+qGkA=",
          "dtype": "f4"
         },
         "yaxis": "y"
        },
        {
         "hovertemplate": "color=3<br>TSNE1=%{x}<br>TSNE2=%{y}<extra></extra>",
         "legendgroup": "3",
         "marker": {
          "color": "rgb(152,78,163)",
          "symbol": "circle"
         },
         "mode": "markers",
         "name": "3",
         "orientation": "v",
         "showlegend": true,
         "type": "scatter",
         "x": {
          "bdata": "xlc3PmwsRsCZdpPAGpYBwRtl5D9SQCPB2umDwAQOkMCzSsq/sq9jvwgAG8Gy8gTAaE2QvqW5GMEpprTAP/OzwDEuRsArR0o/",
          "dtype": "f4"
         },
         "xaxis": "x",
         "y": {
          "bdata": "PSorQfgdS0HwMMxAUuKLQCgQlkAK1ZQ/6eEMQWNPyUD8o+tA0eQqQd/690CVadtAAFP8QLkq9EA1aR1BKBMdQTyKSkEN/ytB",
          "dtype": "f4"
         },
         "yaxis": "y"
        }
       ],
       "layout": {
        "legend": {
         "title": {
          "text": "color"
         },
         "tracegroupgap": 0
        },
        "template": {
         "data": {
          "bar": [
           {
            "error_x": {
             "color": "#2a3f5f"
            },
            "error_y": {
             "color": "#2a3f5f"
            },
            "marker": {
             "line": {
              "color": "#E5ECF6",
              "width": 0.5
             },
             "pattern": {
              "fillmode": "overlay",
              "size": 10,
              "solidity": 0.2
             }
            },
            "type": "bar"
           }
          ],
          "barpolar": [
           {
            "marker": {
             "line": {
              "color": "#E5ECF6",
              "width": 0.5
             },
             "pattern": {
              "fillmode": "overlay",
              "size": 10,
              "solidity": 0.2
             }
            },
            "type": "barpolar"
           }
          ],
          "carpet": [
           {
            "aaxis": {
             "endlinecolor": "#2a3f5f",
             "gridcolor": "white",
             "linecolor": "white",
             "minorgridcolor": "white",
             "startlinecolor": "#2a3f5f"
            },
            "baxis": {
             "endlinecolor": "#2a3f5f",
             "gridcolor": "white",
             "linecolor": "white",
             "minorgridcolor": "white",
             "startlinecolor": "#2a3f5f"
            },
            "type": "carpet"
           }
          ],
          "choropleth": [
           {
            "colorbar": {
             "outlinewidth": 0,
             "ticks": ""
            },
            "type": "choropleth"
           }
          ],
          "contour": [
           {
            "colorbar": {
             "outlinewidth": 0,
             "ticks": ""
            },
            "colorscale": [
             [
              0,
              "#0d0887"
             ],
             [
              0.1111111111111111,
              "#46039f"
             ],
             [
              0.2222222222222222,
              "#7201a8"
             ],
             [
              0.3333333333333333,
              "#9c179e"
             ],
             [
              0.4444444444444444,
              "#bd3786"
             ],
             [
              0.5555555555555556,
              "#d8576b"
             ],
             [
              0.6666666666666666,
              "#ed7953"
             ],
             [
              0.7777777777777778,
              "#fb9f3a"
             ],
             [
              0.8888888888888888,
              "#fdca26"
             ],
             [
              1,
              "#f0f921"
             ]
            ],
            "type": "contour"
           }
          ],
          "contourcarpet": [
           {
            "colorbar": {
             "outlinewidth": 0,
             "ticks": ""
            },
            "type": "contourcarpet"
           }
          ],
          "heatmap": [
           {
            "colorbar": {
             "outlinewidth": 0,
             "ticks": ""
            },
            "colorscale": [
             [
              0,
              "#0d0887"
             ],
             [
              0.1111111111111111,
              "#46039f"
             ],
             [
              0.2222222222222222,
              "#7201a8"
             ],
             [
              0.3333333333333333,
              "#9c179e"
             ],
             [
              0.4444444444444444,
              "#bd3786"
             ],
             [
              0.5555555555555556,
              "#d8576b"
             ],
             [
              0.6666666666666666,
              "#ed7953"
             ],
             [
              0.7777777777777778,
              "#fb9f3a"
             ],
             [
              0.8888888888888888,
              "#fdca26"
             ],
             [
              1,
              "#f0f921"
             ]
            ],
            "type": "heatmap"
           }
          ],
          "histogram": [
           {
            "marker": {
             "pattern": {
              "fillmode": "overlay",
              "size": 10,
              "solidity": 0.2
             }
            },
            "type": "histogram"
           }
          ],
          "histogram2d": [
           {
            "colorbar": {
             "outlinewidth": 0,
             "ticks": ""
            },
            "colorscale": [
             [
              0,
              "#0d0887"
             ],
             [
              0.1111111111111111,
              "#46039f"
             ],
             [
              0.2222222222222222,
              "#7201a8"
             ],
             [
              0.3333333333333333,
              "#9c179e"
             ],
             [
              0.4444444444444444,
              "#bd3786"
             ],
             [
              0.5555555555555556,
              "#d8576b"
             ],
             [
              0.6666666666666666,
              "#ed7953"
             ],
             [
              0.7777777777777778,
              "#fb9f3a"
             ],
             [
              0.8888888888888888,
              "#fdca26"
             ],
             [
              1,
              "#f0f921"
             ]
            ],
            "type": "histogram2d"
           }
          ],
          "histogram2dcontour": [
           {
            "colorbar": {
             "outlinewidth": 0,
             "ticks": ""
            },
            "colorscale": [
             [
              0,
              "#0d0887"
             ],
             [
              0.1111111111111111,
              "#46039f"
             ],
             [
              0.2222222222222222,
              "#7201a8"
             ],
             [
              0.3333333333333333,
              "#9c179e"
             ],
             [
              0.4444444444444444,
              "#bd3786"
             ],
             [
              0.5555555555555556,
              "#d8576b"
             ],
             [
              0.6666666666666666,
              "#ed7953"
             ],
             [
              0.7777777777777778,
              "#fb9f3a"
             ],
             [
              0.8888888888888888,
              "#fdca26"
             ],
             [
              1,
              "#f0f921"
             ]
            ],
            "type": "histogram2dcontour"
           }
          ],
          "mesh3d": [
           {
            "colorbar": {
             "outlinewidth": 0,
             "ticks": ""
            },
            "type": "mesh3d"
           }
          ],
          "parcoords": [
           {
            "line": {
             "colorbar": {
              "outlinewidth": 0,
              "ticks": ""
             }
            },
            "type": "parcoords"
           }
          ],
          "pie": [
           {
            "automargin": true,
            "type": "pie"
           }
          ],
          "scatter": [
           {
            "fillpattern": {
             "fillmode": "overlay",
             "size": 10,
             "solidity": 0.2
            },
            "type": "scatter"
           }
          ],
          "scatter3d": [
           {
            "line": {
             "colorbar": {
              "outlinewidth": 0,
              "ticks": ""
             }
            },
            "marker": {
             "colorbar": {
              "outlinewidth": 0,
              "ticks": ""
             }
            },
            "type": "scatter3d"
           }
          ],
          "scattercarpet": [
           {
            "marker": {
             "colorbar": {
              "outlinewidth": 0,
              "ticks": ""
             }
            },
            "type": "scattercarpet"
           }
          ],
          "scattergeo": [
           {
            "marker": {
             "colorbar": {
              "outlinewidth": 0,
              "ticks": ""
             }
            },
            "type": "scattergeo"
           }
          ],
          "scattergl": [
           {
            "marker": {
             "colorbar": {
              "outlinewidth": 0,
              "ticks": ""
             }
            },
            "type": "scattergl"
           }
          ],
          "scattermap": [
           {
            "marker": {
             "colorbar": {
              "outlinewidth": 0,
              "ticks": ""
             }
            },
            "type": "scattermap"
           }
          ],
          "scattermapbox": [
           {
            "marker": {
             "colorbar": {
              "outlinewidth": 0,
              "ticks": ""
             }
            },
            "type": "scattermapbox"
           }
          ],
          "scatterpolar": [
           {
            "marker": {
             "colorbar": {
              "outlinewidth": 0,
              "ticks": ""
             }
            },
            "type": "scatterpolar"
           }
          ],
          "scatterpolargl": [
           {
            "marker": {
             "colorbar": {
              "outlinewidth": 0,
              "ticks": ""
             }
            },
            "type": "scatterpolargl"
           }
          ],
          "scatterternary": [
           {
            "marker": {
             "colorbar": {
              "outlinewidth": 0,
              "ticks": ""
             }
            },
            "type": "scatterternary"
           }
          ],
          "surface": [
           {
            "colorbar": {
             "outlinewidth": 0,
             "ticks": ""
            },
            "colorscale": [
             [
              0,
              "#0d0887"
             ],
             [
              0.1111111111111111,
              "#46039f"
             ],
             [
              0.2222222222222222,
              "#7201a8"
             ],
             [
              0.3333333333333333,
              "#9c179e"
             ],
             [
              0.4444444444444444,
              "#bd3786"
             ],
             [
              0.5555555555555556,
              "#d8576b"
             ],
             [
              0.6666666666666666,
              "#ed7953"
             ],
             [
              0.7777777777777778,
              "#fb9f3a"
             ],
             [
              0.8888888888888888,
              "#fdca26"
             ],
             [
              1,
              "#f0f921"
             ]
            ],
            "type": "surface"
           }
          ],
          "table": [
           {
            "cells": {
             "fill": {
              "color": "#EBF0F8"
             },
             "line": {
              "color": "white"
             }
            },
            "header": {
             "fill": {
              "color": "#C8D4E3"
             },
             "line": {
              "color": "white"
             }
            },
            "type": "table"
           }
          ]
         },
         "layout": {
          "annotationdefaults": {
           "arrowcolor": "#2a3f5f",
           "arrowhead": 0,
           "arrowwidth": 1
          },
          "autotypenumbers": "strict",
          "coloraxis": {
           "colorbar": {
            "outlinewidth": 0,
            "ticks": ""
           }
          },
          "colorscale": {
           "diverging": [
            [
             0,
             "#8e0152"
            ],
            [
             0.1,
             "#c51b7d"
            ],
            [
             0.2,
             "#de77ae"
            ],
            [
             0.3,
             "#f1b6da"
            ],
            [
             0.4,
             "#fde0ef"
            ],
            [
             0.5,
             "#f7f7f7"
            ],
            [
             0.6,
             "#e6f5d0"
            ],
            [
             0.7,
             "#b8e186"
            ],
            [
             0.8,
             "#7fbc41"
            ],
            [
             0.9,
             "#4d9221"
            ],
            [
             1,
             "#276419"
            ]
           ],
           "sequential": [
            [
             0,
             "#0d0887"
            ],
            [
             0.1111111111111111,
             "#46039f"
            ],
            [
             0.2222222222222222,
             "#7201a8"
            ],
            [
             0.3333333333333333,
             "#9c179e"
            ],
            [
             0.4444444444444444,
             "#bd3786"
            ],
            [
             0.5555555555555556,
             "#d8576b"
            ],
            [
             0.6666666666666666,
             "#ed7953"
            ],
            [
             0.7777777777777778,
             "#fb9f3a"
            ],
            [
             0.8888888888888888,
             "#fdca26"
            ],
            [
             1,
             "#f0f921"
            ]
           ],
           "sequentialminus": [
            [
             0,
             "#0d0887"
            ],
            [
             0.1111111111111111,
             "#46039f"
            ],
            [
             0.2222222222222222,
             "#7201a8"
            ],
            [
             0.3333333333333333,
             "#9c179e"
            ],
            [
             0.4444444444444444,
             "#bd3786"
            ],
            [
             0.5555555555555556,
             "#d8576b"
            ],
            [
             0.6666666666666666,
             "#ed7953"
            ],
            [
             0.7777777777777778,
             "#fb9f3a"
            ],
            [
             0.8888888888888888,
             "#fdca26"
            ],
            [
             1,
             "#f0f921"
            ]
           ]
          },
          "colorway": [
           "#636efa",
           "#EF553B",
           "#00cc96",
           "#ab63fa",
           "#FFA15A",
           "#19d3f3",
           "#FF6692",
           "#B6E880",
           "#FF97FF",
           "#FECB52"
          ],
          "font": {
           "color": "#2a3f5f"
          },
          "geo": {
           "bgcolor": "white",
           "lakecolor": "white",
           "landcolor": "#E5ECF6",
           "showlakes": true,
           "showland": true,
           "subunitcolor": "white"
          },
          "hoverlabel": {
           "align": "left"
          },
          "hovermode": "closest",
          "mapbox": {
           "style": "light"
          },
          "paper_bgcolor": "white",
          "plot_bgcolor": "#E5ECF6",
          "polar": {
           "angularaxis": {
            "gridcolor": "white",
            "linecolor": "white",
            "ticks": ""
           },
           "bgcolor": "#E5ECF6",
           "radialaxis": {
            "gridcolor": "white",
            "linecolor": "white",
            "ticks": ""
           }
          },
          "scene": {
           "xaxis": {
            "backgroundcolor": "#E5ECF6",
            "gridcolor": "white",
            "gridwidth": 2,
            "linecolor": "white",
            "showbackground": true,
            "ticks": "",
            "zerolinecolor": "white"
           },
           "yaxis": {
            "backgroundcolor": "#E5ECF6",
            "gridcolor": "white",
            "gridwidth": 2,
            "linecolor": "white",
            "showbackground": true,
            "ticks": "",
            "zerolinecolor": "white"
           },
           "zaxis": {
            "backgroundcolor": "#E5ECF6",
            "gridcolor": "white",
            "gridwidth": 2,
            "linecolor": "white",
            "showbackground": true,
            "ticks": "",
            "zerolinecolor": "white"
           }
          },
          "shapedefaults": {
           "line": {
            "color": "#2a3f5f"
           }
          },
          "ternary": {
           "aaxis": {
            "gridcolor": "white",
            "linecolor": "white",
            "ticks": ""
           },
           "baxis": {
            "gridcolor": "white",
            "linecolor": "white",
            "ticks": ""
           },
           "bgcolor": "#E5ECF6",
           "caxis": {
            "gridcolor": "white",
            "linecolor": "white",
            "ticks": ""
           }
          },
          "title": {
           "x": 0.05
          },
          "xaxis": {
           "automargin": true,
           "gridcolor": "white",
           "linecolor": "white",
           "ticks": "",
           "title": {
            "standoff": 15
           },
           "zerolinecolor": "white",
           "zerolinewidth": 2
          },
          "yaxis": {
           "automargin": true,
           "gridcolor": "white",
           "linecolor": "white",
           "ticks": "",
           "title": {
            "standoff": 15
           },
           "zerolinecolor": "white",
           "zerolinewidth": 2
          }
         }
        },
        "title": {
         "text": "t-SNE Visualisation des clusters (K-Means)"
        },
        "xaxis": {
         "anchor": "y",
         "domain": [
          0,
          1
         ],
         "title": {
          "text": "TSNE1"
         }
        },
        "yaxis": {
         "anchor": "x",
         "domain": [
          0,
          1
         ],
         "title": {
          "text": "TSNE2"
         }
        }
       }
      }
     },
     "metadata": {},
     "output_type": "display_data"
    }
   ],
   "source": [
    "import plotly.express as px\n",
    "import pandas as pd\n",
    "from sklearn.manifold import TSNE\n",
    "\n",
    "# Apply t-SNE to reduce the dimensionality of the TF-IDF vectors\n",
    "tsne = TSNE(n_components=2, random_state=42)\n",
    "reduced_data = tsne.fit_transform(X.toarray())  # X is the TF-IDF matrix\n",
    "\n",
    "# Create a DataFrame for Plotly\n",
    "df_tsne = pd.DataFrame(reduced_data, columns=['TSNE1', 'TSNE2'])\n",
    "df_tsne['Cluster'] = labels  # Assign cluster labels\n",
    "\n",
    "# Plot using Plotly Express\n",
    "fig = px.scatter(df_tsne, x='TSNE1', y='TSNE2', color=df_tsne['Cluster'].astype(str),\n",
    "                 title=\"t-SNE Visualisation des clusters (K-Means)\",\n",
    "                 labels={'Cluster': 'Cluster'},\n",
    "                 color_discrete_sequence=px.colors.qualitative.Set1)  # Change color palette if needed\n",
    "\n",
    "fig.show()\n"
   ]
  },
  {
   "cell_type": "code",
   "execution_count": 278,
   "metadata": {},
   "outputs": [
    {
     "data": {
      "application/vnd.plotly.v1+json": {
       "config": {
        "plotlyServerURL": "https://plot.ly"
       },
       "data": [
        {
         "hovertemplate": "color=1<br>Axe 1=%{x}<br>Axe 2=%{y}<br>Axe 3=%{z}<extra></extra>",
         "legendgroup": "1",
         "marker": {
          "color": "#636efa",
          "symbol": "circle"
         },
         "mode": "markers",
         "name": "1",
         "scene": "scene",
         "showlegend": true,
         "type": "scatter3d",
         "x": {
          "bdata": "L6ubwg6+9kIkSo3CKVAxwoze4MI=",
          "dtype": "f4"
         },
         "y": {
          "bdata": "6nR8wnIVskEtxsbBBntAwi3gJEI=",
          "dtype": "f4"
         },
         "z": {
          "bdata": "8JBnQcBKKr/Y1pZAVcKcQL+M8L8=",
          "dtype": "f4"
         }
        },
        {
         "hovertemplate": "color=0<br>Axe 1=%{x}<br>Axe 2=%{y}<br>Axe 3=%{z}<extra></extra>",
         "legendgroup": "0",
         "marker": {
          "color": "#EF553B",
          "symbol": "circle"
         },
         "mode": "markers",
         "name": "0",
         "scene": "scene",
         "showlegend": true,
         "type": "scatter3d",
         "x": {
          "bdata": "FGaJwpo8I8IdeWXB/TDeQqW6tcK3X1pCtPVYwv0gk8JAX8zCtXDYQtnmwkL0HJ9Cc/DcwdvVRkF0TzXCxTz/wQM6L0JdYtBCWR+Yvq5pbkKygChCVXKpwDTjF0LoUo3CbFiUwrCtyMJ9vSLBCtKHwsAUhkKP/gzCj4S6wXcEmEKvYzzCql8+QEF4osEKTz/CZktgwoZVgEIzym3CVpZoQoFnqkGoxTfCX/y1QgwjX8IXCKBAYnMaQk6xO8EmdTBDyshTQYl0L0JyNlJCShOvwMBU/cLDGRpC5lcVwHkXwUIGY5/CZsfawvQT4MH0E+DB",
          "dtype": "f4"
         },
         "y": {
          "bdata": "NeNzwl6YF0Ht2nrCodtUwaxR3EABspdB+tAswEgYC8KZ8CvCGboswepbjcJz145AFCIKwlpSLMLYVcTCssS+wmJNsEGCW+/BKbGJwivKxUD7uYnCCfWHwcxGmcLuZRNCjlmtwazcmEChXLtBmvLAwppXr8HFumLCtnvAQHBLFcLvegbCFjEnQrQnAMKPX5JAnVXLQkTUQMI/LiJCXljaQvMup0JTmetCnt+Wwm4FBEIHj5/CzKEKQhf07kE+4grC7I5Iwc+VukELn1RC/RCPwiPW58GeSJ7Ba/CGQo7dOUJOygBCBLThvsbKhULGyoVC",
          "dtype": "f4"
         },
         "z": {
          "bdata": "IFepQrh5Qb5z9mVCf4MvQhHIq8Fm4WBCUR3aQnRXH8KvPV5CQJ1Uw7+YikKd9GXA9wyeQovgy8E8Cy5C3+YPwRVr5UIwdkfBfBpjQfC3S8JxCVzC12sFQZhG8kLD/1tBZviCQudt+kGB/4TBhMdHwmnwk0KTBlHC6wlUQqfsOMK0dDRCme+PQgVk3kKe3gBCq02Iwvxl1UIgXJhCxPELQi3aeEL2hEPCbWu7QawA2cI/XLtCoeyGwSam9EJwWIRDvHi3QjTtC0EAh7FBm5ZlwlXY+j+d/0RCaJWvwVkUCEKlzSnCyNhOwvDe9EHw3vRB",
          "dtype": "f4"
         }
        },
        {
         "hovertemplate": "color=2<br>Axe 1=%{x}<br>Axe 2=%{y}<br>Axe 3=%{z}<extra></extra>",
         "legendgroup": "2",
         "marker": {
          "color": "#00cc96",
          "symbol": "circle"
         },
         "mode": "markers",
         "name": "2",
         "scene": "scene",
         "showlegend": true,
         "type": "scatter3d",
         "x": {
          "bdata": "u3GZwlx2vMF8QQbB/0PTwoTVzsFnGYNCWYK9QvD2lkAOlY9C8IYYQo4FIkEBZDtB0ht+wLdRwEGxLI7CGCCdwVbwC0K3yJrCsd/mQiwcUEFOvi7CO/jlQJpNd0IpS6dCrXxVQWVRpkE=",
          "dtype": "f4"
         },
         "y": {
          "bdata": "aT6gQsZ/rsJ9cXVCTKinwhwOKsKwnuHCkDfjQYbcwkH83pxC5ceIwu2/9MG74qlB3NobQpso2sKrWDjC0s98wagRscH1dtxCssSowsf6CUOvc5ZCY4vjQpw7h0Jtgk9CAB+TQniQSEE=",
          "dtype": "f4"
         },
         "z": {
          "bdata": "iHM6v5WexsLBpdvCakORwdRj6MI0aPxBTvarQn1d0EETSJtCyeqLQFk3/0G6Y2PCoa6gwnuzg0FF/a/CGl8Wwjv/nMH9VYNA5PnMwbmQCEA1iYzBZUBAwkiqNsKhDC3CdwqBQQ7aqUI=",
          "dtype": "f4"
         }
        },
        {
         "hovertemplate": "color=3<br>Axe 1=%{x}<br>Axe 2=%{y}<br>Axe 3=%{z}<extra></extra>",
         "legendgroup": "3",
         "marker": {
          "color": "#ab63fa",
          "symbol": "circle"
         },
         "mode": "markers",
         "name": "3",
         "scene": "scene",
         "showlegend": true,
         "type": "scatter3d",
         "x": {
          "bdata": "R4vPwW3ah0Kd4QLDgYO7Qh3yI0IhN8jCLwk6QUHYrkHkJ+NBQ7JFwg1YTkKdCYRB2k3mwcz/5EHlyzxCqTmIQvFkukI=",
          "dtype": "f4"
         },
         "y": {
          "bdata": "6OToQg6OLMIvsb5Cmwa9QudxjMJdrodCXIHjwgy7C8LRb4JBSFZoPoKl8sGig6XBKogwwI77rkJYmqfC9nClwhzecb8=",
          "dtype": "f4"
         },
         "z": {
          "bdata": "Xc9oQbG6LUEEyAbCzuMNwXreYkLMZVlCM0EkwsRO08IXYu3CopGPwgLaysIz15XCE5exwu8bqsJGtMbCnZyMwUWeqsI=",
          "dtype": "f4"
         }
        },
        {
         "hovertemplate": "color=4<br>Axe 1=%{x}<br>Axe 2=%{y}<br>Axe 3=%{z}<extra></extra>",
         "legendgroup": "4",
         "marker": {
          "color": "#FFA15A",
          "symbol": "circle"
         },
         "mode": "markers",
         "name": "4",
         "scene": "scene",
         "showlegend": true,
         "type": "scatter3d",
         "x": {
          "bdata": "ZRwZwojTYcHwmyVCTJNjQg==",
          "dtype": "f4"
         },
         "y": {
          "bdata": "SoFSQtmqqUKUlMJCgCJHQg==",
          "dtype": "f4"
         },
         "z": {
          "bdata": "6rtlwtp2xUI/P5LBhsmtwg==",
          "dtype": "f4"
         }
        }
       ],
       "layout": {
        "legend": {
         "title": {
          "text": "color"
         },
         "tracegroupgap": 0
        },
        "scene": {
         "domain": {
          "x": [
           0,
           1
          ],
          "y": [
           0,
           1
          ]
         },
         "xaxis": {
          "title": {
           "text": "Axe 1"
          }
         },
         "yaxis": {
          "title": {
           "text": "Axe 2"
          }
         },
         "zaxis": {
          "title": {
           "text": "Axe 3"
          }
         }
        },
        "template": {
         "data": {
          "bar": [
           {
            "error_x": {
             "color": "#2a3f5f"
            },
            "error_y": {
             "color": "#2a3f5f"
            },
            "marker": {
             "line": {
              "color": "#E5ECF6",
              "width": 0.5
             },
             "pattern": {
              "fillmode": "overlay",
              "size": 10,
              "solidity": 0.2
             }
            },
            "type": "bar"
           }
          ],
          "barpolar": [
           {
            "marker": {
             "line": {
              "color": "#E5ECF6",
              "width": 0.5
             },
             "pattern": {
              "fillmode": "overlay",
              "size": 10,
              "solidity": 0.2
             }
            },
            "type": "barpolar"
           }
          ],
          "carpet": [
           {
            "aaxis": {
             "endlinecolor": "#2a3f5f",
             "gridcolor": "white",
             "linecolor": "white",
             "minorgridcolor": "white",
             "startlinecolor": "#2a3f5f"
            },
            "baxis": {
             "endlinecolor": "#2a3f5f",
             "gridcolor": "white",
             "linecolor": "white",
             "minorgridcolor": "white",
             "startlinecolor": "#2a3f5f"
            },
            "type": "carpet"
           }
          ],
          "choropleth": [
           {
            "colorbar": {
             "outlinewidth": 0,
             "ticks": ""
            },
            "type": "choropleth"
           }
          ],
          "contour": [
           {
            "colorbar": {
             "outlinewidth": 0,
             "ticks": ""
            },
            "colorscale": [
             [
              0,
              "#0d0887"
             ],
             [
              0.1111111111111111,
              "#46039f"
             ],
             [
              0.2222222222222222,
              "#7201a8"
             ],
             [
              0.3333333333333333,
              "#9c179e"
             ],
             [
              0.4444444444444444,
              "#bd3786"
             ],
             [
              0.5555555555555556,
              "#d8576b"
             ],
             [
              0.6666666666666666,
              "#ed7953"
             ],
             [
              0.7777777777777778,
              "#fb9f3a"
             ],
             [
              0.8888888888888888,
              "#fdca26"
             ],
             [
              1,
              "#f0f921"
             ]
            ],
            "type": "contour"
           }
          ],
          "contourcarpet": [
           {
            "colorbar": {
             "outlinewidth": 0,
             "ticks": ""
            },
            "type": "contourcarpet"
           }
          ],
          "heatmap": [
           {
            "colorbar": {
             "outlinewidth": 0,
             "ticks": ""
            },
            "colorscale": [
             [
              0,
              "#0d0887"
             ],
             [
              0.1111111111111111,
              "#46039f"
             ],
             [
              0.2222222222222222,
              "#7201a8"
             ],
             [
              0.3333333333333333,
              "#9c179e"
             ],
             [
              0.4444444444444444,
              "#bd3786"
             ],
             [
              0.5555555555555556,
              "#d8576b"
             ],
             [
              0.6666666666666666,
              "#ed7953"
             ],
             [
              0.7777777777777778,
              "#fb9f3a"
             ],
             [
              0.8888888888888888,
              "#fdca26"
             ],
             [
              1,
              "#f0f921"
             ]
            ],
            "type": "heatmap"
           }
          ],
          "histogram": [
           {
            "marker": {
             "pattern": {
              "fillmode": "overlay",
              "size": 10,
              "solidity": 0.2
             }
            },
            "type": "histogram"
           }
          ],
          "histogram2d": [
           {
            "colorbar": {
             "outlinewidth": 0,
             "ticks": ""
            },
            "colorscale": [
             [
              0,
              "#0d0887"
             ],
             [
              0.1111111111111111,
              "#46039f"
             ],
             [
              0.2222222222222222,
              "#7201a8"
             ],
             [
              0.3333333333333333,
              "#9c179e"
             ],
             [
              0.4444444444444444,
              "#bd3786"
             ],
             [
              0.5555555555555556,
              "#d8576b"
             ],
             [
              0.6666666666666666,
              "#ed7953"
             ],
             [
              0.7777777777777778,
              "#fb9f3a"
             ],
             [
              0.8888888888888888,
              "#fdca26"
             ],
             [
              1,
              "#f0f921"
             ]
            ],
            "type": "histogram2d"
           }
          ],
          "histogram2dcontour": [
           {
            "colorbar": {
             "outlinewidth": 0,
             "ticks": ""
            },
            "colorscale": [
             [
              0,
              "#0d0887"
             ],
             [
              0.1111111111111111,
              "#46039f"
             ],
             [
              0.2222222222222222,
              "#7201a8"
             ],
             [
              0.3333333333333333,
              "#9c179e"
             ],
             [
              0.4444444444444444,
              "#bd3786"
             ],
             [
              0.5555555555555556,
              "#d8576b"
             ],
             [
              0.6666666666666666,
              "#ed7953"
             ],
             [
              0.7777777777777778,
              "#fb9f3a"
             ],
             [
              0.8888888888888888,
              "#fdca26"
             ],
             [
              1,
              "#f0f921"
             ]
            ],
            "type": "histogram2dcontour"
           }
          ],
          "mesh3d": [
           {
            "colorbar": {
             "outlinewidth": 0,
             "ticks": ""
            },
            "type": "mesh3d"
           }
          ],
          "parcoords": [
           {
            "line": {
             "colorbar": {
              "outlinewidth": 0,
              "ticks": ""
             }
            },
            "type": "parcoords"
           }
          ],
          "pie": [
           {
            "automargin": true,
            "type": "pie"
           }
          ],
          "scatter": [
           {
            "fillpattern": {
             "fillmode": "overlay",
             "size": 10,
             "solidity": 0.2
            },
            "type": "scatter"
           }
          ],
          "scatter3d": [
           {
            "line": {
             "colorbar": {
              "outlinewidth": 0,
              "ticks": ""
             }
            },
            "marker": {
             "colorbar": {
              "outlinewidth": 0,
              "ticks": ""
             }
            },
            "type": "scatter3d"
           }
          ],
          "scattercarpet": [
           {
            "marker": {
             "colorbar": {
              "outlinewidth": 0,
              "ticks": ""
             }
            },
            "type": "scattercarpet"
           }
          ],
          "scattergeo": [
           {
            "marker": {
             "colorbar": {
              "outlinewidth": 0,
              "ticks": ""
             }
            },
            "type": "scattergeo"
           }
          ],
          "scattergl": [
           {
            "marker": {
             "colorbar": {
              "outlinewidth": 0,
              "ticks": ""
             }
            },
            "type": "scattergl"
           }
          ],
          "scattermap": [
           {
            "marker": {
             "colorbar": {
              "outlinewidth": 0,
              "ticks": ""
             }
            },
            "type": "scattermap"
           }
          ],
          "scattermapbox": [
           {
            "marker": {
             "colorbar": {
              "outlinewidth": 0,
              "ticks": ""
             }
            },
            "type": "scattermapbox"
           }
          ],
          "scatterpolar": [
           {
            "marker": {
             "colorbar": {
              "outlinewidth": 0,
              "ticks": ""
             }
            },
            "type": "scatterpolar"
           }
          ],
          "scatterpolargl": [
           {
            "marker": {
             "colorbar": {
              "outlinewidth": 0,
              "ticks": ""
             }
            },
            "type": "scatterpolargl"
           }
          ],
          "scatterternary": [
           {
            "marker": {
             "colorbar": {
              "outlinewidth": 0,
              "ticks": ""
             }
            },
            "type": "scatterternary"
           }
          ],
          "surface": [
           {
            "colorbar": {
             "outlinewidth": 0,
             "ticks": ""
            },
            "colorscale": [
             [
              0,
              "#0d0887"
             ],
             [
              0.1111111111111111,
              "#46039f"
             ],
             [
              0.2222222222222222,
              "#7201a8"
             ],
             [
              0.3333333333333333,
              "#9c179e"
             ],
             [
              0.4444444444444444,
              "#bd3786"
             ],
             [
              0.5555555555555556,
              "#d8576b"
             ],
             [
              0.6666666666666666,
              "#ed7953"
             ],
             [
              0.7777777777777778,
              "#fb9f3a"
             ],
             [
              0.8888888888888888,
              "#fdca26"
             ],
             [
              1,
              "#f0f921"
             ]
            ],
            "type": "surface"
           }
          ],
          "table": [
           {
            "cells": {
             "fill": {
              "color": "#EBF0F8"
             },
             "line": {
              "color": "white"
             }
            },
            "header": {
             "fill": {
              "color": "#C8D4E3"
             },
             "line": {
              "color": "white"
             }
            },
            "type": "table"
           }
          ]
         },
         "layout": {
          "annotationdefaults": {
           "arrowcolor": "#2a3f5f",
           "arrowhead": 0,
           "arrowwidth": 1
          },
          "autotypenumbers": "strict",
          "coloraxis": {
           "colorbar": {
            "outlinewidth": 0,
            "ticks": ""
           }
          },
          "colorscale": {
           "diverging": [
            [
             0,
             "#8e0152"
            ],
            [
             0.1,
             "#c51b7d"
            ],
            [
             0.2,
             "#de77ae"
            ],
            [
             0.3,
             "#f1b6da"
            ],
            [
             0.4,
             "#fde0ef"
            ],
            [
             0.5,
             "#f7f7f7"
            ],
            [
             0.6,
             "#e6f5d0"
            ],
            [
             0.7,
             "#b8e186"
            ],
            [
             0.8,
             "#7fbc41"
            ],
            [
             0.9,
             "#4d9221"
            ],
            [
             1,
             "#276419"
            ]
           ],
           "sequential": [
            [
             0,
             "#0d0887"
            ],
            [
             0.1111111111111111,
             "#46039f"
            ],
            [
             0.2222222222222222,
             "#7201a8"
            ],
            [
             0.3333333333333333,
             "#9c179e"
            ],
            [
             0.4444444444444444,
             "#bd3786"
            ],
            [
             0.5555555555555556,
             "#d8576b"
            ],
            [
             0.6666666666666666,
             "#ed7953"
            ],
            [
             0.7777777777777778,
             "#fb9f3a"
            ],
            [
             0.8888888888888888,
             "#fdca26"
            ],
            [
             1,
             "#f0f921"
            ]
           ],
           "sequentialminus": [
            [
             0,
             "#0d0887"
            ],
            [
             0.1111111111111111,
             "#46039f"
            ],
            [
             0.2222222222222222,
             "#7201a8"
            ],
            [
             0.3333333333333333,
             "#9c179e"
            ],
            [
             0.4444444444444444,
             "#bd3786"
            ],
            [
             0.5555555555555556,
             "#d8576b"
            ],
            [
             0.6666666666666666,
             "#ed7953"
            ],
            [
             0.7777777777777778,
             "#fb9f3a"
            ],
            [
             0.8888888888888888,
             "#fdca26"
            ],
            [
             1,
             "#f0f921"
            ]
           ]
          },
          "colorway": [
           "#636efa",
           "#EF553B",
           "#00cc96",
           "#ab63fa",
           "#FFA15A",
           "#19d3f3",
           "#FF6692",
           "#B6E880",
           "#FF97FF",
           "#FECB52"
          ],
          "font": {
           "color": "#2a3f5f"
          },
          "geo": {
           "bgcolor": "white",
           "lakecolor": "white",
           "landcolor": "#E5ECF6",
           "showlakes": true,
           "showland": true,
           "subunitcolor": "white"
          },
          "hoverlabel": {
           "align": "left"
          },
          "hovermode": "closest",
          "mapbox": {
           "style": "light"
          },
          "paper_bgcolor": "white",
          "plot_bgcolor": "#E5ECF6",
          "polar": {
           "angularaxis": {
            "gridcolor": "white",
            "linecolor": "white",
            "ticks": ""
           },
           "bgcolor": "#E5ECF6",
           "radialaxis": {
            "gridcolor": "white",
            "linecolor": "white",
            "ticks": ""
           }
          },
          "scene": {
           "xaxis": {
            "backgroundcolor": "#E5ECF6",
            "gridcolor": "white",
            "gridwidth": 2,
            "linecolor": "white",
            "showbackground": true,
            "ticks": "",
            "zerolinecolor": "white"
           },
           "yaxis": {
            "backgroundcolor": "#E5ECF6",
            "gridcolor": "white",
            "gridwidth": 2,
            "linecolor": "white",
            "showbackground": true,
            "ticks": "",
            "zerolinecolor": "white"
           },
           "zaxis": {
            "backgroundcolor": "#E5ECF6",
            "gridcolor": "white",
            "gridwidth": 2,
            "linecolor": "white",
            "showbackground": true,
            "ticks": "",
            "zerolinecolor": "white"
           }
          },
          "shapedefaults": {
           "line": {
            "color": "#2a3f5f"
           }
          },
          "ternary": {
           "aaxis": {
            "gridcolor": "white",
            "linecolor": "white",
            "ticks": ""
           },
           "baxis": {
            "gridcolor": "white",
            "linecolor": "white",
            "ticks": ""
           },
           "bgcolor": "#E5ECF6",
           "caxis": {
            "gridcolor": "white",
            "linecolor": "white",
            "ticks": ""
           }
          },
          "title": {
           "x": 0.05
          },
          "xaxis": {
           "automargin": true,
           "gridcolor": "white",
           "linecolor": "white",
           "ticks": "",
           "title": {
            "standoff": 15
           },
           "zerolinecolor": "white",
           "zerolinewidth": 2
          },
          "yaxis": {
           "automargin": true,
           "gridcolor": "white",
           "linecolor": "white",
           "ticks": "",
           "title": {
            "standoff": 15
           },
           "zerolinecolor": "white",
           "zerolinewidth": 2
          }
         }
        },
        "title": {
         "text": "Visualization des clusters Kmeans"
        }
       }
      }
     },
     "metadata": {},
     "output_type": "display_data"
    }
   ],
   "source": [
    "import plotly.express as px\n",
    "from sklearn.manifold import TSNE\n",
    "from sklearn.feature_extraction.text import TfidfVectorizer\n",
    "\n",
    "# Vectorize the job listings using TF-IDF\n",
    "vectorizer = TfidfVectorizer()\n",
    "X = vectorizer.fit_transform(cleaned_text)\n",
    "\n",
    "# Apply t-SNE to reduce the dimensionality of the TF-IDF vectors to 3D\n",
    "tsne = TSNE(n_components=3, random_state=42)\n",
    "reduced_data = tsne.fit_transform(X.toarray())\n",
    "\n",
    "# Assuming you have K-Means labels from the previous clustering\n",
    "from sklearn.cluster import KMeans\n",
    "\n",
    "kmeans = KMeans(n_clusters=5, random_state=42)\n",
    "kmeans.fit(X)\n",
    "labels = kmeans.labels_\n",
    "\n",
    "# Create a 3D scatter plot using Plotly\n",
    "fig = px.scatter_3d(\n",
    "    reduced_data, \n",
    "    x=0, y=1, z=2, \n",
    "    color=labels.astype(str),  # Color points by their cluster labels\n",
    "    title=\"Visualization des clusters Kmeans\",\n",
    "    labels={'0': 'Axe 1', '1': 'Axe 2', '2': 'Axe 3'},\n",
    "    color_continuous_scale='Viridis'  # You can change this to another color scale\n",
    ")\n",
    "\n",
    "# Show the plot\n",
    "fig.show()\n"
   ]
  },
  {
   "cell_type": "markdown",
   "metadata": {},
   "source": [
    "# PCA"
   ]
  },
  {
   "cell_type": "code",
   "execution_count": 279,
   "metadata": {},
   "outputs": [
    {
     "data": {
      "image/png": "[encoded data removed]",
      "text/plain": [
       "<Figure size 800x600 with 1 Axes>"
      ]
     },
     "metadata": {},
     "output_type": "display_data"
    }
   ],
   "source": [
    "pca = PCA()\n",
    "pca.fit(X.toarray())\n",
    "\n",
    "# Plot the explained variance ratio for each component\n",
    "plt.figure(figsize=(8, 6))\n",
    "plt.plot(np.cumsum(pca.explained_variance_ratio_))\n",
    "plt.xlabel('Number of Components')\n",
    "plt.ylabel('Cumulative Explained Variance')\n",
    "plt.title('Explained Variance vs Number of Components')\n",
    "plt.grid(True)\n",
    "plt.show()"
   ]
  },
  {
   "cell_type": "markdown",
   "metadata": {},
   "source": [
    "# BERTopic"
   ]
  },
  {
   "cell_type": "code",
   "execution_count": 302,
   "metadata": {},
   "outputs": [
    {
     "name": "stdout",
     "output_type": "stream",
     "text": [
      "   Topic  Count                                        Name  \\\n",
      "0     -1     48                -1_dvelopper_base_ia_analyse   \n",
      "1      0     33      0_analyse_informatique_service_rigueur   \n",
      "2      1     17  1_cloud_architecture_scurit_infrastructure   \n",
      "3      2     14                   2_ia_base_engineer_python   \n",
      "\n",
      "                                      Representation  \\\n",
      "0  [dvelopper, base, ia, analyse, application, dv...   \n",
      "1  [analyse, informatique, service, rigueur, beso...   \n",
      "2  [cloud, architecture, scurit, infrastructure, ...   \n",
      "3  [ia, base, engineer, python, sql, cloud, modle...   \n",
      "\n",
      "                                 Representative_Docs  \n",
      "0  [scientist alternance f description venir extr...  \n",
      "1  [analyst lyon f description mission leyton gar...  \n",
      "2  [descriptif i dsi infrastructure datacenter cl...  \n",
      "3  [employeur présent salon taf secteur digitalen...  \n"
     ]
    }
   ],
   "source": [
    "from bertopic import BERTopic\n",
    "\n",
    "# Create BERTopic model\n",
    "topic_model = BERTopic()\n",
    "vectorizer_model = CountVectorizer(stop_words=list(stop_words))\n",
    "topic_model = BERTopic(vectorizer_model=vectorizer_model)\n",
    "\n",
    "\n",
    "topics_texts, _ = topic_model.fit_transform(lemmas_texts)\n",
    "\n",
    "# View topics\n",
    "print(topic_model.get_topic_info())\n"
   ]
  },
  {
   "cell_type": "code",
   "execution_count": 303,
   "metadata": {},
   "outputs": [
    {
     "name": "stdout",
     "output_type": "stream",
     "text": [
      "Topic -1: [('dvelopper', np.float64(0.027856167071975826)), ('base', np.float64(0.027769632840810007)), ('ia', np.float64(0.0255549057140188)), ('analyse', np.float64(0.025278626278752266)), ('application', np.float64(0.024149052256056843)), ('dveloppement', np.float64(0.022122461187888274)), ('recherche', np.float64(0.021621552928907526)), ('web', np.float64(0.02072915845331323)), ('concevoir', np.float64(0.02069918764804872)), ('informatique', np.float64(0.02054952830219941))]\n",
      "Topic 0: [('analyse', np.float64(0.03563755984473047)), ('informatique', np.float64(0.024831877556783618)), ('service', np.float64(0.024160745730924603)), ('rigueur', np.float64(0.019446903894181255)), ('besoin', np.float64(0.019054820816003234)), ('ia', np.float64(0.01905382287071731)), ('information', np.float64(0.018121349119750385)), ('systme', np.float64(0.01802230782400019)), ('volution', np.float64(0.017812465224577773)), ('processus', np.float64(0.017687066403640265))]\n",
      "Topic 1: [('cloud', np.float64(0.1703294662973644)), ('architecture', np.float64(0.08221176266538369)), ('scurit', np.float64(0.07441651267800511)), ('infrastructure', np.float64(0.0650134600302095)), ('architect', np.float64(0.04795020614878975)), ('service', np.float64(0.042740500488916325)), ('systme', np.float64(0.04250875724569245)), ('environnement', np.float64(0.04060008156239392)), ('concevoir', np.float64(0.04022514198811088)), ('devop', np.float64(0.03559055647207456))]\n",
      "Topic 2: [('ia', np.float64(0.040708430504281586)), ('base', np.float64(0.039918967527697496)), ('engineer', np.float64(0.03674930817285016)), ('python', np.float64(0.03570752108563167)), ('sql', np.float64(0.03317028884726063)), ('cloud', np.float64(0.03288278445085557)), ('modle', np.float64(0.032223732368671376)), ('pipeline', np.float64(0.030694746234939393)), ('optimisation', np.float64(0.02599849897046311)), ('environnement', np.float64(0.024331903300304707))]\n"
     ]
    }
   ],
   "source": [
    "topics = topic_model.get_topics()\n",
    "for topic_id, words in topics.items():\n",
    "    print(f\"Topic {topic_id}: {words}\")"
   ]
  },
  {
   "cell_type": "code",
   "execution_count": null,
   "metadata": {},
   "outputs": [],
   "source": [
    "# with open(\"./BERTopic/model.joblib\", \"wb\") as f: \n",
    "#     joblib.dump(topic_model, f)"
   ]
  },
  {
   "cell_type": "code",
   "execution_count": 471,
   "metadata": {},
   "outputs": [],
   "source": [
    "# loaded_topic_model = joblib.load('./BERTopic/model1.joblib')"
   ]
  },
  {
   "cell_type": "code",
   "execution_count": 472,
   "metadata": {},
   "outputs": [],
   "source": [
    "# topics = loaded_topic_model.get_topics()\n",
    "# for topic_id, words in topics.items():\n",
    "#     print(f\"Topic {topic_id}: {words}\")"
   ]
  },
  {
   "cell_type": "code",
   "execution_count": 305,
   "metadata": {},
   "outputs": [
    {
     "data": {
      "image/png": "[encoded data removed]",
      "text/plain": [
       "<Figure size 800x400 with 1 Axes>"
      ]
     },
     "metadata": {},
     "output_type": "display_data"
    },
    {
     "data": {
      "image/png": "[encoded data removed]",
      "text/plain": [
       "<Figure size 800x400 with 1 Axes>"
      ]
     },
     "metadata": {},
     "output_type": "display_data"
    },
    {
     "data": {
      "image/png": "[encoded data removed]",
      "text/plain": [
       "<Figure size 800x400 with 1 Axes>"
      ]
     },
     "metadata": {},
     "output_type": "display_data"
    },
    {
     "data": {
      "image/png": "[encoded data removed]",
      "text/plain": [
       "<Figure size 800x400 with 1 Axes>"
      ]
     },
     "metadata": {},
     "output_type": "display_data"
    }
   ],
   "source": [
    "topic_model = joblib.load('./BERTopic/model.joblib')\n",
    "\n",
    "topics = topic_model.get_topics()\n",
    "\n",
    "# Create a WordCloud for each topic\n",
    "for topic_num, words in topics.items():\n",
    "    # Create a dictionary of word: weight (importance)\n",
    "    word_freq = {word: weight for word, weight in words}\n",
    "\n",
    "    # Generate the word cloud\n",
    "    wordcloud = WordCloud(width=800, height=400, background_color='white').generate_from_frequencies(word_freq)\n",
    "\n",
    "    # Display the word cloud\n",
    "    plt.figure(figsize=(8, 4))\n",
    "    plt.imshow(wordcloud, interpolation='bilinear')\n",
    "    plt.axis('off')\n",
    "    plt.title(f\"Topic {topic_num}\")\n",
    "    plt.show()\n"
   ]
  },
  {
   "cell_type": "markdown",
   "metadata": {},
   "source": [
    "# Embeddings"
   ]
  },
  {
   "cell_type": "code",
   "execution_count": null,
   "metadata": {},
   "outputs": [],
   "source": [
    "HF_TOKEN= \"Huggingface token\"\n",
    "if HF_TOKEN == \"Huggingface token\":\n",
    "    raise \"Il faut renseigner le token ci-dessus\"\n"
   ]
  },
  {
   "cell_type": "code",
   "execution_count": 340,
   "metadata": {},
   "outputs": [],
   "source": [
    "# Load model directly\n",
    "from transformers import AutoTokenizer, AutoModel\n",
    "\n",
    "tokenizer = AutoTokenizer.from_pretrained(\"flaubert/flaubert_base_uncased\")\n",
    "model = AutoModel.from_pretrained(\"flaubert/flaubert_base_uncased\")\n",
    "\n"
   ]
  },
  {
   "cell_type": "code",
   "execution_count": null,
   "metadata": {},
   "outputs": [],
   "source": [
    "embeddings = []\n",
    "for text in cleaned_text:\n",
    "    inputs = tokenizer(text, return_tensors=\"pt\", truncation=True, padding=True, max_length=512)\n",
    "\n",
    "    with torch.no_grad(): \n",
    "        outputs = model(**inputs)\n",
    "    last_hidden_states = outputs.last_hidden_state\n",
    "    cls_embedding = last_hidden_states[:, 0, :]\n",
    "\n",
    "    embeddings.append(cls_embedding)"
   ]
  },
  {
   "cell_type": "code",
   "execution_count": 346,
   "metadata": {},
   "outputs": [],
   "source": [
    "with open(\"embeddings.joblib\", \"wb\") as f:\n",
    "    joblib.dump(embeddings, f)"
   ]
  }
 ],
 "metadata": {
  "kernelspec": {
   "display_name": "webmining",
   "language": "python",
   "name": "python3"
  },
  "language_info": {
   "codemirror_mode": {
    "name": "ipython",
    "version": 3
   },
   "file_extension": ".py",
   "mimetype": "text/x-python",
   "name": "python",
   "nbconvert_exporter": "python",
   "pygments_lexer": "ipython3",
   "version": "3.12.9"
  }
 },
 "nbformat": 4,
 "nbformat_minor": 2
}
