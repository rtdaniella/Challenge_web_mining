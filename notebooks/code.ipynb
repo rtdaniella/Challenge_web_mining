{
 "cells": [
  {
   "cell_type": "markdown",
   "metadata": {},
   "source": [
    "Challenge IA"
   ]
  },
  {
   "cell_type": "code",
   "execution_count": 3,
   "metadata": {},
   "outputs": [],
   "source": [
    "import base64\n",
    "from mistralai import Mistral\n",
    "\n",
    "api_key = \"Yp0Uo7Vx4uSJIlc94dj3MA5ME71KpwIR\"\n",
    "\n",
    "api_key = api_key\n",
    "client = Mistral(api_key=api_key)\n",
    "\n",
    "\n",
    "#Code pour encoder une image, qui sera ensuite donné au LLM \n",
    "def encode_image(image_path):\n",
    "    \"\"\"Encode the image to base64.\"\"\"\n",
    "    try:\n",
    "        with open(image_path, \"rb\") as image_file:\n",
    "            return base64.b64encode(image_file.read()).decode('utf-8')\n",
    "    except FileNotFoundError:\n",
    "        print(f\"Error: The file {image_path} was not found.\")\n",
    "        return None\n",
    "    except Exception as e:  # Added general exception handling\n",
    "        print(f\"Error: {e}\")\n",
    "        return None\n",
    "\n",
    "image_path = \"C:/Users/danie/OneDrive/Documents/GitHub/Challenge_web_mining/data/cv/femme1.jpg\"\n",
    "\n",
    "base64_image = encode_image(image_path)\n",
    "\n",
    "\n",
    "ocr_response = client.ocr.process(\n",
    "    model=\"mistral-ocr-latest\",\n",
    "    document={\n",
    "        \"type\": \"image_url\",\n",
    "        \"image_url\": f\"data:image/jpeg;base64,{base64_image}\" \n",
    "    }\n",
    ")"
   ]
  },
  {
   "cell_type": "markdown",
   "metadata": {},
   "source": [
    "Code pour format PDF"
   ]
  },
  {
   "cell_type": "code",
   "execution_count": 6,
   "metadata": {},
   "outputs": [],
   "source": [
    "# #Pour recupérer fichier PDF uploadé, il faut ensuite récuperer l url lié au fichier\n",
    "\n",
    "# uploaded_pdf = client.files.upload(\n",
    "#     file={\n",
    "#         \"file_name\": \"cv.pdf\",\n",
    "#         \"content\": open(\"joel.pdf\", \"rb\"),\n",
    "#     },\n",
    "#     purpose=\"ocr\"\n",
    "# )  \n",
    "\n",
    "# #on recupère l url\n",
    "# pdf_url = client.files.get_signed_url(file_id=uploaded_pdf.id).url  # Récupère l'URL proprement"
   ]
  },
  {
   "cell_type": "code",
   "execution_count": 8,
   "metadata": {},
   "outputs": [],
   "source": [
    "#On recupère l url du pdf et on extrait les informations \n",
    "# ocr_response = client.ocr.process(\n",
    "#     model=\"mistral-ocr-latest\",\n",
    "#     document={\n",
    "#         \"type\": \"document_url\",\n",
    "#         \"document_url\": pdf_url\n",
    "#     },\n",
    "#     include_image_base64=True\n",
    "#)"
   ]
  },
  {
   "cell_type": "code",
   "execution_count": 9,
   "metadata": {},
   "outputs": [],
   "source": [
    "#Reponse du llm avec les infos extraites du CV pdf \n",
    "ocr_text = ocr_response.pages[0].markdown"
   ]
  },
  {
   "cell_type": "code",
   "execution_count": null,
   "metadata": {},
   "outputs": [
    {
     "name": "stdout",
     "output_type": "stream",
     "text": [
      "Conversion terminée : les images sont enregistrées.\n"
     ]
    }
   ],
   "source": [
    "# #Code pour convertir PDF en image si besoin?\n",
    "\n",
    "# import fitz  # PyMuPDF\n",
    "# from PIL import Image\n",
    "\n",
    "# # Chemin du fichier PDF\n",
    "# pdf_path = \"hugo.pdf\"\n",
    "\n",
    "# # Ouvrir le PDF\n",
    "# doc = fitz.open(pdf_path)\n",
    "\n",
    "# # Convertir chaque page en image\n",
    "# for page_num in range(len(doc)):\n",
    "#     page = doc[page_num]\n",
    "#     pix = page.get_pixmap()  # Convertir en image\n",
    "#     img = Image.frombytes(\"RGB\", [pix.width, pix.height], pix.samples)\n",
    "    \n",
    "#     # Sauvegarde sous forme de fichier image\n",
    "#     img.save(f\"page_{page_num + 1}.png\", \"PNG\")\n",
    "\n",
    "# print(\"Conversion terminée : les images sont enregistrées.\")\n",
    "\n"
   ]
  },
  {
   "cell_type": "markdown",
   "metadata": {},
   "source": [
    "Code pour format IMAGE"
   ]
  },
  {
   "cell_type": "code",
   "execution_count": 11,
   "metadata": {},
   "outputs": [],
   "source": [
    "#Code pour encoder une image, qui sera ensuite donné au LLM \n",
    "def encode_image(image_path):\n",
    "    \"\"\"Encode the image to base64.\"\"\"\n",
    "    try:\n",
    "        with open(image_path, \"rb\") as image_file:\n",
    "            return base64.b64encode(image_file.read()).decode('utf-8')\n",
    "    except FileNotFoundError:\n",
    "        print(f\"Error: The file {image_path} was not found.\")\n",
    "        return None\n",
    "    except Exception as e:  # Added general exception handling\n",
    "        print(f\"Error: {e}\")\n",
    "        return None\n",
    "\n",
    "# Path to your image\n",
    "image_path = \"C:/Users/danie/OneDrive/Documents/GitHub/Challenge_web_mining/data/cv/femme1.jpg\"\n",
    "\n",
    "# Getting the base64 string\n",
    "base64_image = encode_image(image_path)\n",
    "\n",
    "ocr_response = client.ocr.process(\n",
    "    model=\"mistral-ocr-latest\",\n",
    "    document={\n",
    "        \"type\": \"image_url\",\n",
    "        \"image_url\": f\"data:image/jpeg;base64,{base64_image}\" \n",
    "    }\n",
    ")"
   ]
  },
  {
   "cell_type": "code",
   "execution_count": 12,
   "metadata": {},
   "outputs": [
    {
     "name": "stdout",
     "output_type": "stream",
     "text": [
      "![img-0.jpeg](img-0.jpeg)\n",
      "\n",
      "Etudiante\n",
      "Recherche de stage de fin d'année en informatique à partir de début avril maximum jusqu'en fin aout\n",
      "\n",
      "Compétences et connaissances\n",
      "SOS PL/SOOL LIME Processus Unite Gestion de projet GENIE Jenkins Postman REST SOAP C CII Java Javale Pascal Net Delphs Angular ASP.Net WPE Ionie PHIP JavaScript (Query HTML CSS BootStraip Shell Windows Linux Analyse des besoins Defens les urgences Bureautique Accuette et informer\n",
      "\n",
      "## Formations\n",
      "\n",
      "Lizence a Gestion parcours Méthodes informatiques\n",
      "Appliquée à la Gestion des Entreprises (MIAGE)\n",
      "2021 - présent\n",
      "Université Aix-Marseille\n",
      "Certification ISTQB niveau fondation\n",
      "01/12/2010\n",
      "Candidat libre\n",
      "POEC Concepteur développeur Net\n",
      "14/11/2018 - 14/02/2014\n",
      "Centre de formation DMR\n",
      "À Marseille\n",
      "Lizence appliquée en informatique de gestion (Validée par ENIC Naric)\n",
      "2014 - 2016\n",
      "A l'institut des Hautes Etudes Commerciales de Carthage (IHEC) Carthage, Tunisie\n",
      "Baccalauréat sciences de linformatique 2014\n",
      "Djerba, Tunisie\n",
      "\n",
      "## Expériences professionnelles\n",
      "\n",
      "Urias informatique | Développeuse logiciels\n",
      "15/04/2014 - 05/07/2014\n",
      "Aix-en-Provence\n",
      "Maintenances des solutions existantes et développement des nouvelles spécifications pour les clients\n",
      "\n",
      "Sous-préfectures | Médiatrice numérique\n",
      "01/10/2018 - 14/11/2018\n",
      "Aix-en-Provence\n",
      "Accompagner et informer les usagers dans leurs différentes démarches pour permis et carte grise\n",
      "\n",
      "Stage de fin d'études | Tunis Data Services (TDS);\n",
      "Filiale du groupe français TESSI\n",
      "02/2016 - 05/2016\n",
      "Tunis,Tunisie\n",
      "Conception et développement d'une plateforme web et mobile visant à améliorer la communication interne de l'entreprise. Langages et technologies utilisés:\n",
      "JavaEE,JSF,EJB,JPA,XML,REST,ionicMySql\n",
      "Stage d'été | Mosaique.web\n",
      "07/2018\n",
      "Djerba, Tunisie\n",
      "Conception et création d'un quizz en php\n"
     ]
    }
   ],
   "source": [
    "#print(ocr_response)\n",
    "\n",
    "ocr_text = ocr_response.pages[0].markdown  # Texte brut extrait de l'image\n",
    "print(ocr_text)"
   ]
  },
  {
   "cell_type": "code",
   "execution_count": 13,
   "metadata": {},
   "outputs": [
    {
     "data": {
      "text/plain": [
       "\"![img-0.jpeg](img-0.jpeg)\\n\\nEtudiante\\nRecherche de stage de fin d'année en informatique à partir de début avril maximum jusqu'en fin aout\\n\\nCompétences et connaissances\\nSOS PL/SOOL LIME Processus Unite Gestion de projet GENIE Jenkins Postman REST SOAP C CII Java Javale Pascal Net Delphs Angular ASP.Net WPE Ionie PHIP JavaScript (Query HTML CSS BootStraip Shell Windows Linux Analyse des besoins Defens les urgences Bureautique Accuette et informer\\n\\n## Formations\\n\\nLizence a Gestion parcours Méthodes informatiques\\nAppliquée à la Gestion des Entreprises (MIAGE)\\n2021 - présent\\nUniversité Aix-Marseille\\nCertification ISTQB niveau fondation\\n01/12/2010\\nCandidat libre\\nPOEC Concepteur développeur Net\\n14/11/2018 - 14/02/2014\\nCentre de formation DMR\\nÀ Marseille\\nLizence appliquée en informatique de gestion (Validée par ENIC Naric)\\n2014 - 2016\\nA l'institut des Hautes Etudes Commerciales de Carthage (IHEC) Carthage, Tunisie\\nBaccalauréat sciences de linformatique 2014\\nDjerba, Tunisie\\n\\n## Expériences professionnelles\\n\\nUrias informatique | Développeuse logiciels\\n15/04/2014 - 05/07/2014\\nAix-en-Provence\\nMaintenances des solutions existantes et développement des nouvelles spécifications pour les clients\\n\\nSous-préfectures | Médiatrice numérique\\n01/10/2018 - 14/11/2018\\nAix-en-Provence\\nAccompagner et informer les usagers dans leurs différentes démarches pour permis et carte grise\\n\\nStage de fin d'études | Tunis Data Services (TDS);\\nFiliale du groupe français TESSI\\n02/2016 - 05/2016\\nTunis,Tunisie\\nConception et développement d'une plateforme web et mobile visant à améliorer la communication interne de l'entreprise. Langages et technologies utilisés:\\nJavaEE,JSF,EJB,JPA,XML,REST,ionicMySql\\nStage d'été | Mosaique.web\\n07/2018\\nDjerba, Tunisie\\nConception et création d'un quizz en php\""
      ]
     },
     "execution_count": 13,
     "metadata": {},
     "output_type": "execute_result"
    }
   ],
   "source": [
    "ocr_text"
   ]
  },
  {
   "cell_type": "markdown",
   "metadata": {},
   "source": [
    "Pour traiter les données extraites depuis l'OCR mistral"
   ]
  },
  {
   "cell_type": "markdown",
   "metadata": {},
   "source": [
    "Avec un LLM"
   ]
  },
  {
   "cell_type": "code",
   "execution_count": 14,
   "metadata": {},
   "outputs": [
    {
     "name": "stdout",
     "output_type": "stream",
     "text": [
      "{\n",
      "    \"formations\": [\n",
      "        {\n",
      "            \"nom\": \"Lizence a Gestion parcours Méthodes informatiques (MIAGE)\",\n",
      "            \"dates\": \"2021 - présent\",\n",
      "            \"institution\": \"Université Aix-Marseille\"\n",
      "        },\n",
      "        {\n",
      "            \"nom\": \"Certification ISTQB niveau fondation\",\n",
      "            \"dates\": \"01/12/2010\",\n",
      "            \"institution\": \"Candidat libre\"\n",
      "        },\n",
      "        {\n",
      "            \"nom\": \"Lizence appliquée en informatique de gestion\",\n",
      "            \"dates\": \"2014 - 2016\",\n",
      "            \"institution\": \"A l'institut des Hautes Etudes Commerciales de Carthage (IHEC) Carthage, Tunisie\"\n",
      "        },\n",
      "        {\n",
      "            \"nom\": \"Baccalauréat sciences de linformatique\",\n",
      "            \"dates\": \"2014\",\n",
      "            \"institution\": \"Djerba, Tunisie\"\n",
      "        }\n",
      "    ],\n",
      "    \"experiences_professionnelles\": [\n",
      "        {\n",
      "            \"poste\": \"Développeuse logiciels\",\n",
      "            \"dates\": \"15/04/2014 - 05/07/2014\",\n",
      "            \"entreprise\": \"Urias informatique\",\n",
      "            \"description\": \"Maintenances des solutions existantes et développement des nouvelles spécifications pour les clients\"\n",
      "        },\n",
      "        {\n",
      "            \"poste\": \"Médiatrice numérique\",\n",
      "            \"dates\": \"01/10/2018 - 14/11/2018\",\n",
      "            \"entreprise\": \"Sous-préfectures\",\n",
      "            \"description\": \"Accompagner et informer les usagers dans leurs différentes démarches pour permis et carte grise\"\n",
      "        },\n",
      "        {\n",
      "            \"poste\": \"Stage de fin d'études\",\n",
      "            \"dates\": \"02/2016 - 05/2016\",\n",
      "            \"entreprise\": \"Tunis Data Services (TDS); (Filiale du groupe français TESSI)\",\n",
      "            \"description\": \"Conception et développement d'une plateforme web et mobile visant à améliorer la communication interne de l'entreprise\"\n",
      "        },\n",
      "        {\n",
      "            \"poste\": \"Stage d'été\",\n",
      "            \"dates\": \"07/2018\",\n",
      "            \"entreprise\": \"Mosaique.web\",\n",
      "            \"description\": \"Conception et création d'un quizz en php\"\n",
      "        }\n",
      "    ],\n",
      "    \"competences\": [\n",
      "        \"SOS PL/SOOL LIME Processus Unite Gestion de projet GENIE Jenkins Postman REST SOAP C CII Java Javale Pascal Net Delphs Angular ASP.Net WPE Ionie PHIP JavaScript (Query HTML CSS BootStraip Shell Windows Linux Analyse des besoins Defens les urgences Bureautique Accuette et informer\"\n",
      "    ]\n",
      "}\n"
     ]
    }
   ],
   "source": [
    "# Prompt pour le LLM\n",
    "prompt = f\"\"\"\n",
    "Je vais te donner un texte extrait d'un CV au format OCR. Ton objectif est d'extraire et structurer les informations sous forme de JSON. \n",
    "\n",
    "Voici le texte extrait :\n",
    "{ocr_text}\n",
    "\n",
    "### Format de sortie JSON souhaité :\n",
    "{{\n",
    "    \"formations\": [\n",
    "        {{\n",
    "            \"nom\": \"[Nom de la formation]\",\n",
    "            \"dates\": \"[Dates]\",\n",
    "            \"institution\": \"[Institution]\"\n",
    "        }}\n",
    "    ],\n",
    "    \"experiences_professionnelles\": [\n",
    "        {{\n",
    "            \"poste\": \"[Titre du poste]\",\n",
    "            \"dates\": \"[Dates]\",\n",
    "            \"entreprise\": \"[Entreprise]\",\n",
    "            \"description\": \"[Brève description]\"\n",
    "        }}\n",
    "    ],\n",
    "    \"competences\": [\n",
    "        \"[Compétence 1]\",\n",
    "        \"[Compétence 2]\",\n",
    "        \"[Compétence 3]\"\n",
    "    ]\n",
    "}}\n",
    "\n",
    "Respecte ce format strict en JSON sans ajouter d'explications supplémentaires. \n",
    "Si certaines informations sont absentes, laisse les champs vides.\n",
    "\"\"\"\n",
    "\n",
    "\n",
    "# Envoyer le prompt au LLM\n",
    "response = client.chat.complete(\n",
    "    model=\"open-mistral-7b\",\n",
    "    messages=[\n",
    "        {\n",
    "            \"role\": \"system\",\"content\": (\n",
    "             \"Tu êtes un assistant qui extrait des informations et les retourne au format demandé. Tu dois rester logique dans la réponse, donc si certaines informations semblent fausses, ne les renvoie pas.\"\n",
    "            ),\n",
    "        \n",
    "        },\n",
    "        {\"role\":\"user\",\"content\": prompt,},\n",
    "    ],\n",
    ")\n",
    "\n",
    "# Afficher la réponse\n",
    "print(response.choices[0].message.content)"
   ]
  },
  {
   "cell_type": "code",
   "execution_count": 15,
   "metadata": {},
   "outputs": [
    {
     "name": "stdout",
     "output_type": "stream",
     "text": [
      "Bien que cette candidature présente une large gamme de compétences informatiques, il est important de noter que les connaissances en Data Science spécifiques semblent manquantes. Ces compétences sont généralement essentielles pour un poste de Data Scientist.\n",
      "\n",
      "L'expérience professionnelle indique des projets de développement de logiciels et une utilisation de technologies telles que JavaEE, JSF, EJB, JPA, XML, REST, Ionic, et MySql. Cela peut être utile pour un poste de développeur, mais il n'est pas clair qu'elle soit suffisante pour un stage de Data Scientist.\n",
      "\n",
      "En conclusion, il serait peut-être plus approprié d'évaluer cette candidature pour un poste de développeur plutôt qu'un stage de Data Scientist.\n"
     ]
    }
   ],
   "source": [
    "# Prompt pour le LLM\n",
    "prompt = f\"\"\"\n",
    "Je vais te donner un texte extrait d'un CV au format OCR. Ton objectif est de me dire si sa candidature est intéressante pour une offre de stage de Data Scientist?\n",
    "\n",
    "Voici le texte extrait :\n",
    "{ocr_text}\n",
    "\"\"\"\n",
    "\n",
    "\n",
    "# Envoyer le prompt au LLM\n",
    "response = client.chat.complete(\n",
    "    model=\"open-mistral-7b\",\n",
    "    messages=[\n",
    "        {\n",
    "            \"role\": \"system\",\"content\": (\n",
    "             \"Tu êtes un assistant qui extrait des informations et les retourne au format demandé. Tu dois rester logique dans la réponse, donc si certaines informations semblent fausses, ne les renvoie pas.\"\n",
    "            ),\n",
    "        \n",
    "        },\n",
    "        {\"role\":\"user\",\"content\": prompt,},\n",
    "    ],\n",
    ")\n",
    "\n",
    "# Afficher la réponse\n",
    "print(response.choices[0].message.content)"
   ]
  }
 ],
 "metadata": {
  "kernelspec": {
   "display_name": "ocrcvlm",
   "language": "python",
   "name": "python3"
  },
  "language_info": {
   "codemirror_mode": {
    "name": "ipython",
    "version": 3
   },
   "file_extension": ".py",
   "mimetype": "text/x-python",
   "name": "python",
   "nbconvert_exporter": "python",
   "pygments_lexer": "ipython3",
   "version": "3.11.11"
  }
 },
 "nbformat": 4,
 "nbformat_minor": 2
}
