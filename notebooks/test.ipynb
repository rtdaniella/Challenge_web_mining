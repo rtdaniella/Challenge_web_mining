{
 "cells": [
  {
   "cell_type": "code",
   "execution_count": 1,
   "metadata": {},
   "outputs": [],
   "source": [
    "import pdfplumber\n",
    "import json\n",
    "import psycopg2\n",
    "import requests\n"
   ]
  },
  {
   "cell_type": "code",
   "execution_count": 2,
   "metadata": {},
   "outputs": [],
   "source": [
    "# 📌 EXTRACTION DU TEXTE PDF\n",
    "def extract_text_from_pdf(pdf_path):\n",
    "    with pdfplumber.open(pdf_path) as pdf:\n",
    "        text = \"\\n\".join(page.extract_text() for page in pdf.pages if page.extract_text())\n",
    "    return text"
   ]
  },
  {
   "cell_type": "code",
   "execution_count": 3,
   "metadata": {},
   "outputs": [
    {
     "name": "stdout",
     "output_type": "stream",
     "text": [
      "Daniella Rakotondratsimba\n",
      "6 Rue Emile Duport 69009, Lyon\n",
      "+33 7 86 62 53 12\n",
      "daniellark11@gmail.com\n",
      "Métropole de Lyon\n",
      "Lyon, le 12 Février 2025\n",
      "Objet : Candidature au poste de Stagiaire Chargé de mission Data – Data BI et Dataviz\n",
      "Madame, Monsieur,\n",
      "Actuellement en Master 2 Statistiques et Informatique pour la Science des Données (SISE) à\n",
      "l’Université Lumière Lyon 2, je suis passionnée par l’analyse et la valorisation des données. Attirée par\n",
      "les projets à impact direct sur la vie des citoyens, je souhaite rejoindre la Métropole de Lyon en tant\n",
      "que stagiaire pour participer au développement de tableaux de bord analytiques. Disponible à partir\n",
      "du 17 Mars 2025 pour une durée de 4 à 6 mois, je suis motivée à contribuer à vos initiatives\n",
      "d’innovation numérique tout en renforçant mes compétences dans un environnement dynamique et\n",
      "collaboratif.\n",
      "Durant ma formation, j’ai acquis une solide expertise en business intelligence et gestion des\n",
      "données. J’ai travaillé sur des projets impliquant la conception de tableaux de bord interactifs, la\n",
      "préparation et le traitement de données complexes, ainsi que la mise en œuvre de KPIs adaptés aux\n",
      "besoins métiers. L’utilisation d’outils tels que Power BI, SQL et des processus ETL m’a permis de\n",
      "concevoir des visualisations claires et optimisées pour faciliter la prise de décision. Ces compétences\n",
      "sont directement transposables aux missions de création, test et optimisation des tableaux de bord\n",
      "que vous proposez.\n",
      "Dotée d’un excellent sens de l’analyse, je suis également rigoureuse, curieuse et à l’aise dans\n",
      "le travail en équipe. Mon aisance relationnelle m’a permis de collaborer efficacement avec des équipes\n",
      "multidisciplinaires et de m’adapter aux enjeux spécifiques des différents métiers. Mon engagement à\n",
      "comprendre et répondre aux besoins utilisateurs me motive à accompagner la migration de vos\n",
      "tableaux existants vers DigDash et à participer à la formation des utilisateurs finaux.\n",
      "Rejoindre le service données métropolitaines de la Métropole de Lyon représente une\n",
      "opportunité idéale pour contribuer à l’amélioration des services publics grâce à des solutions de\n",
      "datavisualisation innovantes. Je serais ravie d’échanger avec vous pour vous exposer ma motivation et\n",
      "mes idées pour répondre à vos besoins.\n",
      "Dans cette attente, je vous prie d’agréer, Madame, Monsieur, l’expression de mes salutations\n",
      "distinguées.\n",
      "Cordialement,\n",
      "Daniella Rakotondratsimba\n"
     ]
    }
   ],
   "source": [
    "texte = extract_text_from_pdf(\"C:/Users/danie/OneDrive/Documents/GitHub/Challenge_web_mining/data/lm/lm_dan.pdf\")\n",
    "print(texte)"
   ]
  },
  {
   "cell_type": "code",
   "execution_count": null,
   "metadata": {},
   "outputs": [],
   "source": [
    "# 📌 APPEL API MISTRAL AVEC JSON STRICT\n",
    "MISTRAL_API_KEY = \"clé api\"\n",
    "API_URL = \"https://api.mistral.ai/v1/chat/completions\"\n",
    "\n",
    "def query_mistral(prompt):\n",
    "    headers = {\n",
    "        \"Authorization\": f\"Bearer {MISTRAL_API_KEY}\",\n",
    "        \"Content-Type\": \"application/json\"\n",
    "    }\n",
    "\n",
    "    data = {\n",
    "        \"model\": \"mistral-medium\",\n",
    "        \"messages\": [{\"role\": \"user\", \"content\": prompt}],\n",
    "        \"temperature\": 0.7\n",
    "    }\n",
    "\n",
    "    response = requests.post(API_URL, headers=headers, json=data)\n",
    "\n",
    "    if response.status_code == 200:\n",
    "        try:\n",
    "            return json.loads(response.json()[\"choices\"][0][\"message\"][\"content\"])\n",
    "        except json.JSONDecodeError:\n",
    "            print(\"⚠️ Erreur : réponse Mistral non valide en JSON.\")\n",
    "            return None\n",
    "    else:\n",
    "        print(\"❌ Erreur API :\", response.text)\n",
    "        return None"
   ]
  },
  {
   "cell_type": "code",
   "execution_count": 5,
   "metadata": {},
   "outputs": [],
   "source": [
    "# 📌 EXTRACTION DES DONNÉES AVEC FORMAT JSON STRICT\n",
    "def extract_data(text):\n",
    "    prompt = f\"\"\"\n",
    "    Voici une lettre de motivation :\n",
    "    \"{text}\"\n",
    "\n",
    "    Formate ta réponse en JSON avec ces champs :\n",
    "    {{\n",
    "      \"competences\": [\"compétence1\", \"compétence2\"],\n",
    "      \"motivations\": \"motivation\",\n",
    "      \"lieu\": \"ville\"\n",
    "    }}\n",
    "    \"\"\"\n",
    "    return query_mistral(prompt)"
   ]
  },
  {
   "cell_type": "code",
   "execution_count": 8,
   "metadata": {},
   "outputs": [
    {
     "name": "stdout",
     "output_type": "stream",
     "text": [
      "{'competences': ['business intelligence', 'gestion de données', 'conception de tableaux de bord interactifs', 'préparation et traitement de données complexes', 'utilisation de Power BI, SQL et processus ETL', 'visualisation de données', 'compréhension des besoins utilisateurs', 'travail en équipe', 'adaptabilité'], 'motivations': \"passionnée par l'analyse et la valorisation des données, intérêt pour les projets à impact direct sur la vie des citoyens, motivation à contribuer aux initiatives d'innovation numérique de la Métropole de Lyon, souhait de renforcer ses compétences dans un environnement dynamique et collaboratif\", 'lieu': 'Lyon'}\n"
     ]
    }
   ],
   "source": [
    "data = extract_data(texte)\n",
    "print(data)"
   ]
  },
  {
   "cell_type": "code",
   "execution_count": 10,
   "metadata": {},
   "outputs": [],
   "source": [
    "\n",
    "# 📌 INSÉRER DANS POSTGRESQL\n",
    "def insert_into_db(data):\n",
    "    if not data:\n",
    "        print(\"⚠️ Pas de données à insérer.\")\n",
    "        return\n",
    "\n",
    "    try:\n",
    "        conn = psycopg2.connect(\n",
    "            dbname=\"test_lm\",\n",
    "            user=\"postgres\",\n",
    "            password=\"daniella\",\n",
    "            host=\"localhost\",\n",
    "            port=\"5432\"\n",
    "        )\n",
    "        cursor = conn.cursor()\n",
    "\n",
    "        cursor.execute(\"\"\"\n",
    "            CREATE TABLE IF NOT EXISTS lm (\n",
    "                id SERIAL PRIMARY KEY,\n",
    "                competences JSONB,\n",
    "                motivations TEXT,\n",
    "                lieu TEXT\n",
    "            )\n",
    "        \"\"\")\n",
    "\n",
    "        cursor.execute(\"\"\"\n",
    "            INSERT INTO lm (competences, motivations, lieu)\n",
    "            VALUES (%s, %s, %s)\n",
    "        \"\"\", (json.dumps(data[\"competences\"]), data[\"motivations\"], data[\"lieu\"]))\n",
    "\n",
    "        conn.commit()\n",
    "        print(\"✅ Données insérées avec succès !\")\n",
    "\n",
    "    except Exception as e:\n",
    "        print(\"❌ Erreur PostgreSQL :\", e)\n",
    "\n",
    "    finally:\n",
    "        cursor.close()\n",
    "        conn.close()\n",
    "\n"
   ]
  },
  {
   "cell_type": "code",
   "execution_count": null,
   "metadata": {},
   "outputs": [
    {
     "name": "stdout",
     "output_type": "stream",
     "text": [
      "✅ Compétences : ['business intelligence', 'gestion de données', 'conception de tableaux de bord interactifs', 'préparation et traitement de données complexes', 'utilisation de Power BI, SQL et processus ETL', 'visualisation de données', 'compréhension des besoins utilisateurs', 'travail en équipe', 'adaptabilité']\n",
      "✅ Motivations : passionnée par l'analyse et la valorisation des données, intérêt pour les projets à impact direct sur la vie des citoyens, motivation à contribuer aux initiatives d'innovation numérique de la Métropole de Lyon, souhait de renforcer ses compétences dans un environnement dynamique et collaboratif\n",
      "✅ Lieu : Lyon\n",
      "✅ Données insérées avec succès !\n"
     ]
    }
   ],
   "source": [
    "# 📌 EXÉCUTION DU PIPELINE\n",
    "if data:\n",
    "    print(\"✅ Compétences :\", data[\"competences\"])\n",
    "    print(\"✅ Motivations :\", data[\"motivations\"])\n",
    "    print(\"✅ Lieu :\", data[\"lieu\"])\n",
    "    insert_into_db(data)"
   ]
  }
 ],
 "metadata": {
  "kernelspec": {
   "display_name": "ocrcvlm",
   "language": "python",
   "name": "python3"
  },
  "language_info": {
   "codemirror_mode": {
    "name": "ipython",
    "version": 3
   },
   "file_extension": ".py",
   "mimetype": "text/x-python",
   "name": "python",
   "nbconvert_exporter": "python",
   "pygments_lexer": "ipython3",
   "version": "3.11.11"
  }
 },
 "nbformat": 4,
 "nbformat_minor": 2
}
