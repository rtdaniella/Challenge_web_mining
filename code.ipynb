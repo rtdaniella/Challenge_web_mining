{
 "cells": [
  {
   "cell_type": "markdown",
   "metadata": {},
   "source": [
    "Challenge IA"
   ]
  },
  {
   "cell_type": "code",
   "execution_count": 206,
   "metadata": {},
   "outputs": [],
   "source": [
    "import base64\n",
    "from mistralai import Mistral\n",
    "\n",
    "api_key = \"Yp0Uo7Vx4uSJIlc94dj3MA5ME71KpwIR\"\n"
   ]
  },
  {
   "cell_type": "markdown",
   "metadata": {},
   "source": [
    "Code pour format PDF"
   ]
  },
  {
   "cell_type": "code",
   "execution_count": 207,
   "metadata": {},
   "outputs": [],
   "source": [
    "#Pour recupérer fichier PDF uploadé, il faut ensuite récuperer l url lié au fichier\n",
    "\n",
    "uploaded_pdf = client.files.upload(\n",
    "    file={\n",
    "        \"file_name\": \"cv.pdf\",\n",
    "        \"content\": open(\"joel.pdf\", \"rb\"),\n",
    "    },\n",
    "    purpose=\"ocr\"\n",
    ")  \n",
    "\n",
    "#on recupère l url\n",
    "pdf_url = client.files.get_signed_url(file_id=uploaded_pdf.id).url  # Récupère l'URL proprement"
   ]
  },
  {
   "cell_type": "code",
   "execution_count": 208,
   "metadata": {},
   "outputs": [],
   "source": [
    "#On recupère l url du pdf et on extrait les informations \n",
    "ocr_response = client.ocr.process(\n",
    "    model=\"mistral-ocr-latest\",\n",
    "    document={\n",
    "        \"type\": \"document_url\",\n",
    "        \"document_url\": pdf_url\n",
    "    },\n",
    "    include_image_base64=True\n",
    ")"
   ]
  },
  {
   "cell_type": "code",
   "execution_count": 221,
   "metadata": {},
   "outputs": [],
   "source": [
    "#Reponse du llm avec les infos extraites du CV pdf \n",
    "ocr_text = ocr_response.pages[0].markdown"
   ]
  },
  {
   "cell_type": "code",
   "execution_count": null,
   "metadata": {},
   "outputs": [
    {
     "name": "stdout",
     "output_type": "stream",
     "text": [
      "Conversion terminée : les images sont enregistrées.\n"
     ]
    }
   ],
   "source": [
    "# #Code pour convertir PDF en image si besoin?\n",
    "\n",
    "# import fitz  # PyMuPDF\n",
    "# from PIL import Image\n",
    "\n",
    "# # Chemin du fichier PDF\n",
    "# pdf_path = \"hugo.pdf\"\n",
    "\n",
    "# # Ouvrir le PDF\n",
    "# doc = fitz.open(pdf_path)\n",
    "\n",
    "# # Convertir chaque page en image\n",
    "# for page_num in range(len(doc)):\n",
    "#     page = doc[page_num]\n",
    "#     pix = page.get_pixmap()  # Convertir en image\n",
    "#     img = Image.frombytes(\"RGB\", [pix.width, pix.height], pix.samples)\n",
    "    \n",
    "#     # Sauvegarde sous forme de fichier image\n",
    "#     img.save(f\"page_{page_num + 1}.png\", \"PNG\")\n",
    "\n",
    "# print(\"Conversion terminée : les images sont enregistrées.\")\n",
    "\n"
   ]
  },
  {
   "cell_type": "markdown",
   "metadata": {},
   "source": [
    "Code pour format IMAGE"
   ]
  },
  {
   "cell_type": "code",
   "execution_count": null,
   "metadata": {},
   "outputs": [],
   "source": [
    "#Code pour encoder une image, qui sera ensuite donné au LLM \n",
    "def encode_image(image_path):\n",
    "    \"\"\"Encode the image to base64.\"\"\"\n",
    "    try:\n",
    "        with open(image_path, \"rb\") as image_file:\n",
    "            return base64.b64encode(image_file.read()).decode('utf-8')\n",
    "    except FileNotFoundError:\n",
    "        print(f\"Error: The file {image_path} was not found.\")\n",
    "        return None\n",
    "    except Exception as e:  # Added general exception handling\n",
    "        print(f\"Error: {e}\")\n",
    "        return None\n",
    "\n",
    "# Path to your image\n",
    "image_path = \"page_1.png\"\n",
    "\n",
    "# Getting the base64 string\n",
    "base64_image = encode_image(image_path)\n",
    "\n",
    "ocr_response = client.ocr.process(\n",
    "    model=\"mistral-ocr-latest\",\n",
    "    document={\n",
    "        \"type\": \"image_url\",\n",
    "        \"image_url\": f\"data:image/jpeg;base64,{base64_image}\" \n",
    "    }\n",
    ")"
   ]
  },
  {
   "cell_type": "code",
   "execution_count": 222,
   "metadata": {},
   "outputs": [
    {
     "name": "stdout",
     "output_type": "stream",
     "text": [
      "# Joël SOLLARI \n",
      "\n",
      "## De reconversion, je recherche un stage de 4 à 6 mois sur un poste de data scientist à partir du 17/03/2025.\n",
      "\n",
      "ÉDUCATION\n",
      "Master 2 Statistique et\n",
      "Informatique pour la Science\n",
      "des donnéEs (SISE)\n",
      "Université Lyon 2 (2025)\n",
      "Maitrise Informatique\n",
      "Aix-Marseille Université (2021)\n",
      "\n",
      "Licence d'informatique\n",
      "CTES - Aix-Marseille\n",
      "Université (2020)\n",
      "\n",
      "## COMPETENCES\n",
      "\n",
      "Avancées :\n",
      "Python, Machine Learning, NLP, SQL, ETL / ELT,\n",
      "\n",
      "## Intermédiaires :\n",
      "\n",
      "NoSQL, Deep Learning, MLOps, Conception des entrepôts de données, Statistiques, Git\n",
      "\n",
      "## Complémentaires :\n",
      "\n",
      "R, LLM, Développement d'API, Power BI, Tableau, Qlik, Microsoft Azure, Séries Temporelles, Dash, Shiny\n",
      "\n",
      "## A ng l a is\n",
      "\n",
      "Avancé (B2-C1)\n",
      "\n",
      "## EXPÉRIENCES\n",
      "\n",
      "Depuis 2017\n",
      "Support technique, informatique et méthodologique (Ingénieur de recherche) - Préparation de corpus - Gestion bases de données $\\cdot$ Amalteya SAS\n",
      "\n",
      "Publications :\n",
      "\n",
      "- Finding the best trade-off between performance and interpretability in predicting hospital length of stay using structured and unstructured data (2023)\n",
      "- Formation au management et éthique incarnée (« Faire du yoga loin du réverbère » ; 2018)\n",
      "\n",
      "2013 - 2015\n",
      "Responsable informatique $\\cdot$ Sorehde SARL\n",
      "Plateforme web\n",
      "2008 - 2020\n",
      "Services aux personnes\n",
      "Accompagnement périscolaire parents/enfants\n",
      "2001 - 2008\n",
      "Responsable opérationnel $\\cdot$ McDonald's\n",
      "\n",
      "## LOISIRS\n",
      "\n",
      "Forte implication dans l'association Askesyam (développement personnel) : Membre fondateur et président de 2015 à 2020, organisation de séminaires de formation (particuliers), création et maintenance du site E-commerce jusqu'en 2020\n",
      "\n",
      "Lecture, Jeux vidéo, Jeux de réflexion\n"
     ]
    }
   ],
   "source": [
    "#print(ocr_response)\n",
    "\n",
    "ocr_text = ocr_response.pages[0].markdown  # Texte brut extrait de l'image\n",
    "print(ocr_text)"
   ]
  },
  {
   "cell_type": "code",
   "execution_count": 219,
   "metadata": {},
   "outputs": [],
   "source": [
    "ocr_text"
   ]
  },
  {
   "cell_type": "markdown",
   "metadata": {},
   "source": [
    "Pour traiter les données extraites depuis l'OCR mistral"
   ]
  },
  {
   "cell_type": "markdown",
   "metadata": {},
   "source": [
    "Avec un LLM"
   ]
  },
  {
   "cell_type": "code",
   "execution_count": 223,
   "metadata": {},
   "outputs": [
    {
     "name": "stdout",
     "output_type": "stream",
     "text": [
      "{\n",
      "    \"formations\": [\n",
      "        {\n",
      "            \"nom\": \"Master 2 Statistique et Informatique pour la Science des données (SISE)\",\n",
      "            \"dates\": \"2025\",\n",
      "            \"institution\": \"Université Lyon 2\"\n",
      "        },\n",
      "        {\n",
      "            \"nom\": \"Maitrise Informatique\",\n",
      "            \"dates\": \"2021\",\n",
      "            \"institution\": \"Aix-Marseille Université\"\n",
      "        },\n",
      "        {\n",
      "            \"nom\": \"Licence d'informatique\",\n",
      "            \"dates\": \"2020\",\n",
      "            \"institution\": \"CTES - Aix-Marseille Université\"\n",
      "        }\n",
      "    ],\n",
      "    \"experiences_professionnelles\": [\n",
      "        {\n",
      "            \"poste\": \"Support technique, informatique et méthodologique (Ingénieur de recherche)\",\n",
      "            \"dates\": \"Depuis 2017\",\n",
      "            \"entreprise\": \"Préparation de corpus - Gestion bases de données $\\cdot$ Amalteya SAS\",\n",
      "            \"description\": \"Publications : - Finding the best trade-off between performance and interpretability in predicting hospital length of stay using structured and unstructured data (2023) - Formation au management et éthique incarnée (« Faire du yoga loin du réverbère » ; 2018)\"\n",
      "        },\n",
      "        {\n",
      "            \"poste\": \"Responsable informatique\",\n",
      "            \"dates\": \"2013 - 2015\",\n",
      "            \"entreprise\": \"Sorehde SARL\",\n",
      "            \"description\": \"Plateforme web\"\n",
      "        },\n",
      "        {\n",
      "            \"poste\": \"Services aux personnes\",\n",
      "            \"dates\": \"2008 - 2020\",\n",
      "            \"entreprise\": \"Accompagnement périscolaire parents/enfants\"\n",
      "        },\n",
      "        {\n",
      "            \"poste\": \"Responsable opérationnel\",\n",
      "            \"dates\": \"2001 - 2008\",\n",
      "            \"entreprise\": \"McDonald's\"\n",
      "        }\n",
      "    ],\n",
      "    \"competences\": [\n",
      "        \"Python, Machine Learning, NLP, SQL, ETL / ELT,\",\n",
      "        \"NoSQL, Deep Learning, MLOps, Conception des entrepôts de données, Statistiques, Git,\",\n",
      "        \"R, LLM, Développement d'API, Power BI, Tableau, Qlik, Microsoft Azure, Séries Temporelles, Dash, Shiny\"\n",
      "    ]\n",
      "}\n"
     ]
    }
   ],
   "source": [
    "# Prompt pour le LLM\n",
    "prompt = f\"\"\"\n",
    "Je vais te donner un texte extrait d'un CV au format OCR. Ton objectif est d'extraire et structurer les informations sous forme de JSON. \n",
    "\n",
    "Voici le texte extrait :\n",
    "{ocr_text}\n",
    "\n",
    "### Format de sortie JSON souhaité :\n",
    "{{\n",
    "    \"formations\": [\n",
    "        {{\n",
    "            \"nom\": \"[Nom de la formation]\",\n",
    "            \"dates\": \"[Dates]\",\n",
    "            \"institution\": \"[Institution]\"\n",
    "        }}\n",
    "    ],\n",
    "    \"experiences_professionnelles\": [\n",
    "        {{\n",
    "            \"poste\": \"[Titre du poste]\",\n",
    "            \"dates\": \"[Dates]\",\n",
    "            \"entreprise\": \"[Entreprise]\",\n",
    "            \"description\": \"[Brève description]\"\n",
    "        }}\n",
    "    ],\n",
    "    \"competences\": [\n",
    "        \"[Compétence 1]\",\n",
    "        \"[Compétence 2]\",\n",
    "        \"[Compétence 3]\"\n",
    "    ]\n",
    "}}\n",
    "\n",
    "Respecte ce format strict en JSON sans ajouter d'explications supplémentaires. \n",
    "Si certaines informations sont absentes, laisse les champs vides.\n",
    "\"\"\"\n",
    "\n",
    "\n",
    "# Envoyer le prompt au LLM\n",
    "response = client.chat.complete(\n",
    "    model=\"open-mistral-7b\",\n",
    "    messages=[\n",
    "        {\n",
    "            \"role\": \"system\",\"content\": (\n",
    "             \"Tu êtes un assistant qui extrait des informations et les retourne au format demandé. Tu dois rester logique dans la réponse, donc si certaines informations semblent fausses, ne les renvoie pas.\"\n",
    "            ),\n",
    "        \n",
    "        },\n",
    "        {\"role\":\"user\",\"content\": prompt,},\n",
    "    ],\n",
    ")\n",
    "\n",
    "# Afficher la réponse\n",
    "print(response.choices[0].message.content)"
   ]
  },
  {
   "cell_type": "code",
   "execution_count": 224,
   "metadata": {},
   "outputs": [
    {
     "name": "stdout",
     "output_type": "stream",
     "text": [
      "En étudiant le CV, il est clair que Joël Sollari a une formation académique appropriée pour le poste de Data Scientist, avec un Master 2 en Statistique et Informatique pour la Science des données (SISE) à l'Université Lyon 2 et une Maîtrise en Informatique à l'Aix-Marseille Université. Il a également une expérience pratique en tant qu'Ingénieur de recherche dans un poste technique, où il a travaillé sur la préparation de corpus et la gestion de bases de données.\n",
      "\n",
      "En examinant les compétences de Joël Sollari, il est apparent qu'il a des compétences avancées en Python, Machine Learning, NLP, SQL, ETL / ELT, ainsi qu'un niveau intermédiaire en NoSQL, Deep Learning, MLOps, Conception des entrepôts de données, Statistiques, Git. Il a également des compétences complémentaires en R, LLM, Développement d'API, Power BI, Tableau, Qlik, Microsoft Azure, Séries Temporelles, Dash, Shiny.\n",
      "\n",
      "En tenant compte de ses compétences et de son expérience, il semble que Joël Sollari pourrait être un bon candidat pour un stage de Data Scientist. Cependant, il est important de noter que la disponibilité de Joël Sollari pour commencer le stage est du 17/03/2025, ce qui peut être un obstacle pour une offre de stage plus immédiate. De plus, il est important de vérifier que la langue d'instruction de son Master 2 est anglais, car il est noté qu'il est avancé en anglais (B2-C1).\n",
      "\n",
      "En conclusion, il semble que Joël Sollari pourrait être un bon candidat pour un stage de Data Scientist, mais il est important de prendre en compte sa disponibilité et de vérifier les détails de son curriculum vitae avant de le sélectionner pour un stage.\n"
     ]
    }
   ],
   "source": [
    "# Prompt pour le LLM\n",
    "prompt = f\"\"\"\n",
    "Je vais te donner un texte extrait d'un CV au format OCR. Ton objectif est de me dire si sa candidature est intéressante pour une offre de stage de Data Scientist?\n",
    "\n",
    "Voici le texte extrait :\n",
    "{ocr_text}\n",
    "\"\"\"\n",
    "\n",
    "\n",
    "# Envoyer le prompt au LLM\n",
    "response = client.chat.complete(\n",
    "    model=\"open-mistral-7b\",\n",
    "    messages=[\n",
    "        {\n",
    "            \"role\": \"system\",\"content\": (\n",
    "             \"Tu êtes un assistant qui extrait des informations et les retourne au format demandé. Tu dois rester logique dans la réponse, donc si certaines informations semblent fausses, ne les renvoie pas.\"\n",
    "            ),\n",
    "        \n",
    "        },\n",
    "        {\"role\":\"user\",\"content\": prompt,},\n",
    "    ],\n",
    ")\n",
    "\n",
    "# Afficher la réponse\n",
    "print(response.choices[0].message.content)"
   ]
  }
 ],
 "metadata": {
  "kernelspec": {
   "display_name": "Python 3",
   "language": "python",
   "name": "python3"
  },
  "language_info": {
   "codemirror_mode": {
    "name": "ipython",
    "version": 3
   },
   "file_extension": ".py",
   "mimetype": "text/x-python",
   "name": "python",
   "nbconvert_exporter": "python",
   "pygments_lexer": "ipython3",
   "version": "3.9.21"
  }
 },
 "nbformat": 4,
 "nbformat_minor": 2
}
